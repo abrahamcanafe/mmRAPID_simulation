{
 "cells": [
  {
   "cell_type": "markdown",
   "metadata": {
    "id": "LXRy8vwe_fHe"
   },
   "source": [
    "## Project 5: mmRAPID Simulation"
   ]
  },
  {
   "cell_type": "markdown",
   "metadata": {
    "id": "sqMhpTki_c4X"
   },
   "source": [
    "### Imports"
   ]
  },
  {
   "cell_type": "code",
   "execution_count": 1,
   "metadata": {
    "id": "JUYr5I1eABXD"
   },
   "outputs": [],
   "source": [
    "import numpy as np\n",
    "import matplotlib.pyplot as plt\n",
    "import random\n",
    "from tqdm import tqdm\n",
    "from sklearn.model_selection import train_test_split\n",
    "from sklearn.metrics import accuracy_score, mean_squared_error\n",
    "from copy import deepcopy"
   ]
  },
  {
   "cell_type": "code",
   "execution_count": 2,
   "metadata": {
    "id": "f39dfnFZMQCf"
   },
   "outputs": [],
   "source": [
    "np.random.seed(42)"
   ]
  },
  {
   "cell_type": "markdown",
   "metadata": {
    "id": "yP8kYq4EB9n-"
   },
   "source": [
    "### Functions"
   ]
  },
  {
   "cell_type": "markdown",
   "metadata": {
    "id": "-lpbLd_yn7nO"
   },
   "source": [
    "#### snr(v_out, v_in)"
   ]
  },
  {
   "cell_type": "code",
   "execution_count": 3,
   "metadata": {
    "id": "-jN4WD1zROgD"
   },
   "outputs": [],
   "source": [
    "##### Compute SNR\n",
    "def snr(v_out, v_in):\n",
    "  '''\n",
    "  Returns SNR in dB\n",
    "  '''\n",
    "  v_out_np = np.array(v_out).reshape(-1,1)\n",
    "  v_in_np = np.array(v_in).reshape(-1,1)\n",
    "  return 10*np.log10(np.mean(np.abs(v_out_np**2))/np.mean(np.abs(v_in_np**2)))"
   ]
  },
  {
   "cell_type": "markdown",
   "metadata": {
    "id": "leCpyZ9goBQv"
   },
   "source": [
    "#### awgn(x, snr, is_complex=True, dB_mode=True)"
   ]
  },
  {
   "cell_type": "code",
   "execution_count": 4,
   "metadata": {
    "id": "ENArA1S0uC8p"
   },
   "outputs": [],
   "source": [
    "##### Generate Gaussian noise using SNR\n",
    "def awgn(x, snr, is_complex=True, dB_mode=True):\n",
    "  '''\n",
    "  If dB_mode is True, snr = 10*log10(linear_snr)\n",
    "  Otherwise, snr = linear_snr\n",
    "  '''\n",
    "  x_arr = np.array(x)\n",
    "  linear_snr = 10.0 ** (snr/10.0)\n",
    "  if (dB_mode==False):\n",
    "    linear_snr = snr\n",
    "\n",
    "  signal_power = np.mean(np.abs(x_arr**2))\n",
    "\n",
    "  if (is_complex):\n",
    "    noise_vec = np.sqrt(signal_power/linear_snr) * 1/np.sqrt(2) * np.array(np.random.randn(len(np.atleast_1d(x_arr))) + 1j*np.random.randn(len(np.atleast_1d(x_arr))))\n",
    "    return noise_vec\n",
    "  else:\n",
    "    noise_vec = np.sqrt(signal_power/linear_snr) * np.random.randn(len(np.atleast_1d(x_arr)))\n",
    "    return noise_vec\n"
   ]
  },
  {
   "cell_type": "markdown",
   "metadata": {
    "id": "wIp-uurUoGAo"
   },
   "source": [
    "#### double_sample_with_spacing(x_vec, spacing=10)"
   ]
  },
  {
   "cell_type": "code",
   "execution_count": 5,
   "metadata": {
    "id": "xCKuYAGFvUlQ"
   },
   "outputs": [],
   "source": [
    "##### Sample unique points from an array without replacement, given a certain spacing between elements\n",
    "def double_sample_with_spacing(x_vec, spacing=10, return_inds=False):\n",
    "  '''\n",
    "  ##### ========= Inputs ========= #####\n",
    "  x_vec: Vector whose elements are unique\n",
    "\n",
    "  ##### ========= Returns ========= #####\n",
    "  Returns x_vec if returns_inds==False (default)\n",
    "  Returns the tuple (ind_1, ind_2, x_vec) otherwise\n",
    "  '''\n",
    "  sample_num = 2 # number of samples\n",
    "  if (np.max(x_vec) - np.min(x_vec) >= spacing):\n",
    "    sample_pt_1 = np.random.choice(x_vec)\n",
    "    inds_select = np.where(np.abs(x_vec-sample_pt_1) >= spacing/2)\n",
    "    sample_pt_2 = np.random.choice(x_vec[inds_select])\n",
    "\n",
    "    sample_arr_np = np.array([sample_pt_1, sample_pt_2])\n",
    "\n",
    "    if (return_inds==True):\n",
    "      ind_1 = np.where(x_vec==sample_pt_1)\n",
    "      ind_2 = np.where(x_vec==sample_pt_2)\n",
    "      return (ind_1, ind_2, sample_arr_np)\n",
    "    else:\n",
    "      return sample_arr_np\n",
    "  else:\n",
    "    print('Array size or spacing size is incompatible.')"
   ]
  },
  {
   "cell_type": "markdown",
   "metadata": {
    "id": "X9KqbrLOoJp_"
   },
   "source": [
    "#### generate_alpha_2(alpha_1, secondary_path_gain_dB=-15)"
   ]
  },
  {
   "cell_type": "code",
   "execution_count": 6,
   "metadata": {
    "id": "mj3zUbga9gFt"
   },
   "outputs": [],
   "source": [
    "def generate_alpha_2(alpha_1, secondary_path_gain_dB=-15):\n",
    "  '''\n",
    "  secondary_path_gain_dB = 10*log10(np.mean(alpha_2**2)/np.mean(alpha_1**2))\n",
    "  '''\n",
    "  alpha_2 = np.sqrt((1) * (np.mean(alpha_1**2) * (10**(secondary_path_gain_dB/10))))\n",
    "  return alpha_2"
   ]
  },
  {
   "cell_type": "markdown",
   "metadata": {
    "id": "oLLxf-MQoMHV"
   },
   "source": [
    "#### generate_array_response(N_array_elements, select_angle, d_lambda_ratio=0.5, angle_mode='radians')"
   ]
  },
  {
   "cell_type": "code",
   "execution_count": 7,
   "metadata": {
    "id": "EXnuiB5o7-Jo"
   },
   "outputs": [],
   "source": [
    "##### Generate array response\n",
    "def generate_array_response(N_array_elements, select_angle, d_lambda_ratio=0.5, angle_mode='radians'):\n",
    "  '''\n",
    "  N_array_elements: N_R or N_T\n",
    "  select_angle: AoA or AoD\n",
    "  d_lambda_ratio: antenna spacing divided by wavelength\n",
    "\n",
    "  Returns: A vector representing the array response (unit power).\n",
    "  '''\n",
    "  if (angle_mode=='degrees'):\n",
    "    a = np.matrix(np.exp(1j*2*np.pi*np.arange(0,N_array_elements)*d_lambda_ratio*np.sin(select_angle*np.pi/180)).reshape(N_array_elements,1))\n",
    "    return(a.reshape(-1,1))\n",
    "  elif (angle_mode=='radians'):\n",
    "    a = np.matrix(np.exp(1j*2*np.pi*np.arange(0,N_array_elements)*d_lambda_ratio*np.sin(select_angle)).reshape(N_array_elements,1))\n",
    "    return(a.reshape(-1,1))\n",
    "  else:\n",
    "    print('Specify angle mode.')"
   ]
  },
  {
   "cell_type": "markdown",
   "metadata": {
    "id": "OA35mDzmoN4a"
   },
   "source": [
    "#### generate_channel_model(a_R_phi_1, a_R_phi_2, alpha_1, alpha_2, L=2)"
   ]
  },
  {
   "cell_type": "code",
   "execution_count": 8,
   "metadata": {
    "id": "2nzR1KMuRQaO"
   },
   "outputs": [],
   "source": [
    "def generate_channel_model(a_R_phi_1, a_R_phi_2, alpha_1, alpha_2, L=2):\n",
    "  '''\n",
    "  ##### ===== UNUSED ===== #####\n",
    "  a_R_phi_1:              Array response at receiver (Rx) / mobile station (MS) for path 1 (L=1), evaluated at phi_1\n",
    "  a_R_phi_2:              Array response at receiver (Rx) / mobile station (MS) for path 2 (L=2), evaluated at phi_1\n",
    "  alpha_1:                Post-Tx-beam channel gain for path 1 (L=1)\n",
    "  alpha_2:                Post-Tx-beam channel gain for path 2 (L=2)\n",
    "  L:                      Number of paths (Set to either L=1 or L=2)\n",
    "  '''\n",
    "  h1 = alpha_1*a_R_phi_1\n",
    "  h2 = alpha_2*a_R_phi_2\n",
    "  h = h1 + h2\n",
    "  if (L==1):\n",
    "    return(h1)\n",
    "  elif (L==2):\n",
    "    return(h)\n",
    "  else:\n",
    "    print('Set L=1 or L=2')\n"
   ]
  },
  {
   "cell_type": "markdown",
   "metadata": {
    "id": "0y4Mxiy3ogSl"
   },
   "source": [
    "#### generate_gain_error_vec(N_elements)"
   ]
  },
  {
   "cell_type": "code",
   "execution_count": 9,
   "metadata": {
    "id": "wt6f7y69onEs"
   },
   "outputs": [],
   "source": [
    "def generate_gain_error_vec(N_elements):\n",
    "  return 0.25*np.sin(0.4*np.pi*np.arange(1,N_elements+1)) # start at index 0 or index 1?"
   ]
  },
  {
   "cell_type": "markdown",
   "metadata": {
    "id": "A71De06WpLyE"
   },
   "source": [
    "#### generate_phase_error_vec(N_elements)"
   ]
  },
  {
   "cell_type": "code",
   "execution_count": 10,
   "metadata": {
    "id": "B0tRPaNepOX1"
   },
   "outputs": [],
   "source": [
    "def generate_phase_error_vec(N_elements):\n",
    "  return 15*np.sin(0.3*np.pi*np.arange(1,N_elements+1)) # start at index 0 or index 1?"
   ]
  },
  {
   "cell_type": "markdown",
   "metadata": {
    "id": "FCsKP2ANrUzX"
   },
   "source": [
    "#### create_directional_codeword(sel_angle, N_elements, angle_mode='radians')"
   ]
  },
  {
   "cell_type": "code",
   "execution_count": 11,
   "metadata": {
    "id": "E5XHxHBIrxFK"
   },
   "outputs": [],
   "source": [
    "def create_directional_codeword(sel_angle, N_elements, angle_mode='radians', d_lambda_ratio=0.5):\n",
    "  sel_angle_rad = sel_angle\n",
    "  if (angle_mode=='degrees'):\n",
    "    sel_angle_rad = sel_angle * np.pi/180\n",
    "  a_R = generate_array_response(N_elements, sel_angle_rad, d_lambda_ratio=d_lambda_ratio)\n",
    "  wd_k = 1/np.sqrt(N_elements) * a_R\n",
    "  return wd_k"
   ]
  },
  {
   "cell_type": "markdown",
   "metadata": {
    "id": "GQ4k3H3AIfmz"
   },
   "source": [
    "#### create_compressive_codeword(N_elements, sel_angle_dist=np.array([0, np.pi/2, np.pi, 3/2*np.pi]))\n"
   ]
  },
  {
   "cell_type": "code",
   "execution_count": 12,
   "metadata": {
    "id": "z4mvcFK08kc6"
   },
   "outputs": [],
   "source": [
    "def create_compressive_codeword(N_elements, sel_angle_dist=np.array([0, np.pi/2, np.pi, 3/2*np.pi])):\n",
    "  sel_angles_rad = np.random.choice(sel_angle_dist, size=N_elements)\n",
    "  ws_m = 1/np.sqrt(N_elements) * np.exp(1j*sel_angles_rad)\n",
    "  return ws_m\n"
   ]
  },
  {
   "cell_type": "markdown",
   "metadata": {
    "id": "qr9AkqLI_2UY"
   },
   "source": [
    "#### generate_channel_matrix(N_R, n_instances, alpha_1, true_AoA_dist, spacing_rad, angle_mode='radians', secondary_path_gain_dB=-15, L=2, d_lambda_ratio=0.5):\n"
   ]
  },
  {
   "cell_type": "code",
   "execution_count": 13,
   "metadata": {
    "id": "I41WyQXG_4sG"
   },
   "outputs": [],
   "source": [
    "def generate_channel_matrix(N_R, n_instances, alpha_1, true_AoA_dist, spacing_rad, angle_mode='radians', secondary_path_gain_dB=-15, L=2, d_lambda_ratio=0.5, random_seed_on=True, random_seed_num=42):\n",
    "  '''\n",
    "  ##### ========= Inputs ========= #####\n",
    "  N_R: Number of antenna array elements\n",
    "  n_instances: Number of channel instances to generate\n",
    "  alpha_1: The gain associated with the true AoA. If L=2,\n",
    "  true_AoA_dist: K-element array of AoA angles from which a true AoA and a second AoA will be randomly sampled\n",
    "  spacing_rad: Minimum absolute difference beteen the two randomly sampled angle (default is in radians)\n",
    "  angle_mode: Default is in radians, change to 'degrees' if the parameter spacing_rad is in degrees\n",
    "  secondary_path_gain_dB: Gain in dB of the second path, relative to alpha_1. Utilized for the computation of alpha_2\n",
    "  L: Number of channel paths, set to either L=1 or L=2 (default is L=2)\n",
    "  d_lambda_ratio: Spacing for antenna array (default is 0.5, for half-wavelength spacing)\n",
    "  random_seed: Set to true generate consistent channel models\n",
    "  random_seed_num: Random seed number (default is 42)\n",
    "\n",
    "  ##### ========= Returns ========= #####\n",
    "  Returns the tuple (true_AoA_inds_np, secondary_AoA_inds_np, H)\n",
    "\n",
    "  true_AoA_inds_np: The indices (labels) associated with each true AoA sampled from true_AoA_dist (size = n_instances)\n",
    "  secondary_AoA_inds_np: The indices associated with each secondary path AoA sampled from true_AoA_dist (size = n_instances)\n",
    "  H: a matrix of channel vectors with dimensions N_R x n_instances\n",
    "  '''\n",
    "  if (random_seed_on == True):\n",
    "    np.random.seed(random_seed_num)\n",
    "\n",
    "  select_spacing = spacing_rad\n",
    "  if (angle_mode=='degrees'):\n",
    "    select_spacing = spacing_rad*180/np.pi\n",
    "\n",
    "  true_AoA_inds = list()\n",
    "  secondary_AoA_inds = list()\n",
    "  H = list()\n",
    "  for ind in np.arange(n_instances):\n",
    "    # Randomly generate angles with spacing\n",
    "    phi_1, phi_2, (true_ind, secondary_ind) = double_sample_with_spacing(true_AoA_dist, spacing=select_spacing, return_inds=True)\n",
    "\n",
    "    # Generate array responses for l=1 and l=2\n",
    "    a_R_phi_1 = generate_array_response(N_R, phi_1, d_lambda_ratio, angle_mode='radians')\n",
    "    a_R_phi_2 = generate_array_response(N_R, phi_2, d_lambda_ratio, angle_mode='radians')\n",
    "\n",
    "    # Compute alpha_2 based on alpha_1 and secondary_path_gain_dB\n",
    "    alpha_2 = generate_alpha_2(alpha_1, secondary_path_gain_dB)\n",
    "\n",
    "    # Combine array responses and associated gains to make a channel model instance h\n",
    "    h1 = alpha_1/np.sqrt(N_R)*a_R_phi_1\n",
    "    h2 = alpha_2/np.sqrt(N_R)*a_R_phi_2\n",
    "    h = h1 + h2\n",
    "\n",
    "    # Add array response instance to H\n",
    "    if (L==2):\n",
    "      H.append(h)\n",
    "    elif (L==1):\n",
    "      H.append(h1)\n",
    "    else:\n",
    "      print('L must be L=1 or L=2.')\n",
    "      break\n",
    "\n",
    "    # Save indices for path l=1 and path l=2\n",
    "    true_AoA_inds.append(phi_1)\n",
    "    secondary_AoA_inds.append(phi_2)\n",
    "\n",
    "  H_np = np.concatenate(H,axis=1).reshape(N_R, n_instances) # A matrix of channel vectors with dimensions N_R x n_instances\n",
    "  true_AoA_inds_np = np.array(true_AoA_inds).reshape(len(true_AoA_inds))\n",
    "  secondary_AoA_inds_np = np.array(secondary_AoA_inds).reshape(len(true_AoA_inds))\n",
    "\n",
    "  return (true_AoA_inds_np, secondary_AoA_inds_np, H_np)\n"
   ]
  },
  {
   "cell_type": "markdown",
   "metadata": {
    "id": "Ohe0TXAxP57F"
   },
   "source": [
    "#### generate_awgn_matrix(H,snr)"
   ]
  },
  {
   "cell_type": "code",
   "execution_count": 14,
   "metadata": {
    "id": "K38N0Yl4QBXZ"
   },
   "outputs": [],
   "source": [
    "def generate_awgn_matrix(H,snr_dB):\n",
    "  '''\n",
    "  ##### ========= Inputs ========= #####\n",
    "  H: A channel matrix (a 2D numpy array) with dimensions N_R x n_instances\n",
    "  snr_dB: The desired signal to noise ratio, in dB\n",
    "\n",
    "  ##### ========= Returns ========= #####\n",
    "  noise_mat_np: A matrix of awgn vectors correponding to the desired snr\n",
    "\n",
    "  '''\n",
    "  noise_mat = list()\n",
    "  N_R, n_instances = H.shape\n",
    "  for col in np.arange(n_instances):\n",
    "    noise_vec = awgn(H[:,col], snr_dB, is_complex=True, dB_mode=True)\n",
    "    noise_mat.append(noise_vec)\n",
    "\n",
    "  noise_mat_np = np.array(noise_mat).reshape(N_R, n_instances)\n",
    "  return noise_mat_np\n"
   ]
  },
  {
   "cell_type": "markdown",
   "metadata": {
    "id": "_sIeQgwSAKdu"
   },
   "source": [
    "### Generate System Model"
   ]
  },
  {
   "cell_type": "markdown",
   "metadata": {
    "id": "yx4koMR4phiv"
   },
   "source": [
    "#### Constants"
   ]
  },
  {
   "cell_type": "code",
   "execution_count": 15,
   "metadata": {
    "id": "Dq5f3rm2AJ_q"
   },
   "outputs": [],
   "source": [
    "N_T = 1 ##### Number of transmitters\n",
    "N_R = 32 ##### Number of receiver antennas\n",
    "d_lambda_ratio = 0.5\n",
    "thetas = 20 # radians, remains fixed for the entire project\n",
    "phis = 30 # radians"
   ]
  },
  {
   "cell_type": "markdown",
   "metadata": {
    "id": "Vsyl4nFWpoCK"
   },
   "source": [
    "#### Array responses"
   ]
  },
  {
   "cell_type": "code",
   "execution_count": 16,
   "metadata": {
    "id": "7U_R1QeDEGdV"
   },
   "outputs": [],
   "source": [
    "a_T = generate_array_response(N_T, thetas, d_lambda_ratio, angle_mode='degrees')\n",
    "a_R = generate_array_response(N_R, phis, d_lambda_ratio, angle_mode='degrees')"
   ]
  },
  {
   "cell_type": "code",
   "execution_count": 17,
   "metadata": {
    "colab": {
     "base_uri": "https://localhost:8080/"
    },
    "id": "l4uQZGlyF5AT",
    "outputId": "bff55955-cae6-498c-adb0-c01f30ae8f8c"
   },
   "outputs": [
    {
     "name": "stdout",
     "output_type": "stream",
     "text": [
      "(1, 1)\n",
      "(32, 1)\n"
     ]
    }
   ],
   "source": [
    "print(a_T.shape)\n",
    "print(a_R.shape)"
   ]
  },
  {
   "cell_type": "code",
   "execution_count": 18,
   "metadata": {
    "id": "dcu43rEVGAUX"
   },
   "outputs": [],
   "source": [
    "post_Tx_beam_channel_gain = 10 # Arbitrary???\n",
    "v = a_T / np.sqrt(N_R)\n",
    "alpha_1 = post_Tx_beam_channel_gain * a_T.H @ v ##### alpha_1 is just a constant"
   ]
  },
  {
   "cell_type": "markdown",
   "metadata": {
    "id": "gDTOvudwRlX2"
   },
   "source": [
    "#### Set post-Tx-beam channel gains for L=1 and L=2"
   ]
  },
  {
   "cell_type": "code",
   "execution_count": 19,
   "metadata": {
    "colab": {
     "base_uri": "https://localhost:8080/"
    },
    "id": "WIUlQ9WDRk6w",
    "outputId": "0ae41f3d-dd57-42b9-b83c-b426d78e5b32"
   },
   "outputs": [
    {
     "data": {
      "text/plain": [
       "-15.0"
      ]
     },
     "execution_count": 19,
     "metadata": {},
     "output_type": "execute_result"
    }
   ],
   "source": [
    "secondary_path_gain_dB = -15 # in dB, adjustable parameter\n",
    "alpha_1 = 10\n",
    "alpha_2 = generate_alpha_2(alpha_1)\n",
    "snr(alpha_2,alpha_1)"
   ]
  },
  {
   "cell_type": "code",
   "execution_count": 20,
   "metadata": {
    "colab": {
     "base_uri": "https://localhost:8080/"
    },
    "id": "0zpNaw5t1Gsv",
    "outputId": "5f871bf6-ee92-4462-a279-62d32f66ed1d"
   },
   "outputs": [
    {
     "data": {
      "text/plain": [
       "array([6, 1])"
      ]
     },
     "execution_count": 20,
     "metadata": {},
     "output_type": "execute_result"
    }
   ],
   "source": [
    "double_sample_with_spacing(np.arange(11))"
   ]
  },
  {
   "cell_type": "markdown",
   "metadata": {
    "id": "gQmeSWe88JiL"
   },
   "source": [
    "### Generate Channel Model"
   ]
  },
  {
   "cell_type": "markdown",
   "metadata": {
    "id": "u_9plYyY8Tv3"
   },
   "source": [
    "#### Notation"
   ]
  },
  {
   "cell_type": "markdown",
   "metadata": {
    "id": "OplGrd1k3440"
   },
   "source": [
    "$\\mathbf{y} = |\\mathbf{W}^{H}\\mathbf{B}(\\mathbf{h}s+\\mathbf{n})|^{2}$\n",
    "<br>\n",
    "$\\mathbf{y}$: RSS Measurement Vector, where $\\mathbf{y} \\in \\mathbb{R}^{M}$. (The vector $\\mathbf{y}$ is an \"instance\" with associated a given AoA (i.e., a given $\\mathbf{h}$).\n",
    "<br>\n",
    "$\\mathbf{W}$: Codebook of stacked PN beamformers, where $\\mathbf{W} \\in \\mathbb{C}^{N_{R} \\times M}$. Note that $\\mathbf{W}:=\\mathbf{W_s}$.\n",
    "<br>\n",
    "$s$: The \"1\" symbol\n",
    "<br>\n",
    "$\\mathbf{B}$: Impairments ($\\mathbf{B}=diag(\\mathbf{b}$), where $\\mathbf{b}_{i} = (1+g_{err}(i))e^{jp_{err}(i)})$\n",
    "<br>\n",
    "$\\mathbf{h}$: Channels (2 AWVs, contains the \"true\" AoA, plus second AoA associated with undesired beam.)\n",
    "<br>\n",
    "$\\mathbf{n}$: AWGN"
   ]
  },
  {
   "cell_type": "markdown",
   "metadata": {
    "id": "SN6PlXCkuxtN"
   },
   "source": [
    "#### Define h"
   ]
  },
  {
   "cell_type": "code",
   "execution_count": 21,
   "metadata": {
    "id": "nPm1y1p3w93C"
   },
   "outputs": [],
   "source": [
    "h = generate_channel_model(a_R, a_T, alpha_1, alpha_2)"
   ]
  },
  {
   "cell_type": "markdown",
   "metadata": {
    "id": "JO3WnfwWu1k6"
   },
   "source": [
    "#### AoA vectors"
   ]
  },
  {
   "cell_type": "code",
   "execution_count": 22,
   "metadata": {
    "id": "_IPzOQT8SQAy"
   },
   "outputs": [],
   "source": [
    "#### Generate vector of AoAs\n",
    "K = 64\n",
    "AoA_vec_K = np.linspace(-np.pi/3, np.pi/3, K) #### These correspond to my labels\n",
    "AoA_vec_M = np.array([0, np.pi/2, np.pi, 3/2*np.pi]) #### Pseudorandom sampling of these angles are used to create my features"
   ]
  },
  {
   "cell_type": "markdown",
   "metadata": {
    "id": "EDavjMQCvCyq"
   },
   "source": [
    "#### SNR dB range"
   ]
  },
  {
   "cell_type": "code",
   "execution_count": 23,
   "metadata": {
    "id": "19xV27CvnHgZ"
   },
   "outputs": [],
   "source": [
    "##### Generate array of SNRs (in dB)\n",
    "snr_range_dB = np.arange(0,31,5) # 0:5:30 dB"
   ]
  },
  {
   "cell_type": "markdown",
   "metadata": {
    "id": "fIZbZ6AnnvfO"
   },
   "source": [
    "### Codebook Design"
   ]
  },
  {
   "cell_type": "markdown",
   "metadata": {
    "id": "vKSAklnZqaAj"
   },
   "source": [
    "#### Directional Codebook $\\mathbf{W}_D$ (|$\\mathbf{W}_D$| = K codewords, K = 64)"
   ]
  },
  {
   "cell_type": "code",
   "execution_count": 24,
   "metadata": {
    "colab": {
     "base_uri": "https://localhost:8080/"
    },
    "id": "Hjl6_kJ1qfra",
    "outputId": "9e797f9e-3043-4e7b-dc34-19792c270d73"
   },
   "outputs": [
    {
     "data": {
      "text/plain": [
       "(32, 64)"
      ]
     },
     "execution_count": 24,
     "metadata": {},
     "output_type": "execute_result"
    }
   ],
   "source": [
    "# W_D: A matrix with dimensions N_R x K\n",
    "# Use AoA_vec_K (radians) to define each column of W_D\n",
    "K = 64\n",
    "W_D = list()\n",
    "for col in np.arange(K):\n",
    "  W_D.append(create_directional_codeword(sel_angle=AoA_vec_K[col], N_elements=N_R))\n",
    "\n",
    "W_D = np.matrix(np.array(W_D).reshape(N_R,K))\n",
    "W_D.shape"
   ]
  },
  {
   "cell_type": "markdown",
   "metadata": {
    "id": "QQU6a62Qqb6w"
   },
   "source": [
    "#### Compressive Codebook $\\mathbf{W}_S$ (|$\\mathbf{W}_S$| = M codewords, M = 4, 8, 12)"
   ]
  },
  {
   "cell_type": "code",
   "execution_count": 25,
   "metadata": {
    "colab": {
     "base_uri": "https://localhost:8080/"
    },
    "id": "5e_9ZcJ8qgLD",
    "outputId": "348a1463-1f09-45d9-a69d-acebdc9fa0cd"
   },
   "outputs": [
    {
     "data": {
      "text/plain": [
       "(32, 12)"
      ]
     },
     "execution_count": 25,
     "metadata": {},
     "output_type": "execute_result"
    }
   ],
   "source": [
    "# W_S: A matrix with dimensions N_R x K\n",
    "# Use AoA_vec_M (radians) to define each column of W_D\n",
    "# Select 4, 8, or 12 columns, depending on how many measurements we want to use\n",
    "M = 12\n",
    "W_S = list()\n",
    "for col in np.arange(M):\n",
    "  sel_random_phase = np.random.choice(AoA_vec_M)\n",
    "  W_S.append(create_compressive_codeword(N_elements=N_R, sel_angle_dist=AoA_vec_M))\n",
    "\n",
    "W_S = np.matrix(np.array(W_S).reshape(N_R,M))\n",
    "W_S.shape"
   ]
  },
  {
   "cell_type": "markdown",
   "metadata": {
    "id": "0tUFExOUnxoE"
   },
   "source": [
    "### Array Impairments"
   ]
  },
  {
   "cell_type": "markdown",
   "metadata": {
    "id": "uHt0ATaY3Az-"
   },
   "source": [
    "#### Generate gain error g and phase error p"
   ]
  },
  {
   "cell_type": "code",
   "execution_count": 26,
   "metadata": {
    "id": "HaEiBnXznysw"
   },
   "outputs": [],
   "source": [
    "g_err_vec = generate_gain_error_vec(N_R) # Gain error vector\n",
    "p_err_vec = generate_phase_error_vec(N_R) # Phase error vector"
   ]
  },
  {
   "cell_type": "markdown",
   "metadata": {
    "id": "PpyqFFlk3CPk"
   },
   "source": [
    "#### Generate matrix of impairments $\\mathbf{B}$"
   ]
  },
  {
   "cell_type": "code",
   "execution_count": 27,
   "metadata": {
    "id": "fcm-tBMg3EpS"
   },
   "outputs": [],
   "source": [
    "##### Generate matrix of impairments\n",
    "b = (1 + g_err_vec) * np.exp(1j*p_err_vec)\n",
    "B = np.diag(b)\n",
    "B_gain = np.diag(1+g_err_vec)\n",
    "B_angle = np.diag(np.exp(1j*p_err_vec))"
   ]
  },
  {
   "cell_type": "markdown",
   "metadata": {
    "id": "WiRkwu8LqkU3"
   },
   "source": [
    "### Angle Estimation Algorithm"
   ]
  },
  {
   "cell_type": "code",
   "execution_count": 28,
   "metadata": {
    "id": "VrL897kEcqeb"
   },
   "outputs": [],
   "source": [
    "import torch\n",
    "import torch.nn as nn"
   ]
  },
  {
   "cell_type": "markdown",
   "metadata": {
    "id": "2sVMtHtGiDx_"
   },
   "source": [
    "#### Create NN Model (PyTorch)"
   ]
  },
  {
   "cell_type": "code",
   "execution_count": 29,
   "metadata": {
    "id": "MCb4L053cgao"
   },
   "outputs": [],
   "source": [
    "class mmRAPID_MLP(nn.Module):\n",
    "  def __init__(self, M=12, K=64, hidden_layers=[64, 128]):\n",
    "    super().__init__()\n",
    "\n",
    "    self.hidden_layers = hidden_layers\n",
    "    self.input_dim = M\n",
    "    self.output_dim = K\n",
    "    #self.output_dim = K\n",
    "    self.relu = nn.ReLU()\n",
    "\n",
    "    self.linear_bn1 = nn.BatchNorm1d(self.input_dim)\n",
    "    self.linear1 = nn.Linear(self.input_dim, self.hidden_layers[0])\n",
    "    self.drop1 = nn.Dropout(0.5)\n",
    "\n",
    "    self.linear_bn2 = nn.BatchNorm1d(self.hidden_layers[0])\n",
    "    self.linear2 = nn.Linear(self.hidden_layers[0], self.hidden_layers[1])\n",
    "    self.drop2 = nn.Dropout(0.5)\n",
    "\n",
    "    self.linear3 = nn.Linear(self.hidden_layers[1], self.output_dim)\n",
    "\n",
    "  def forward(self, x):\n",
    "    h = x\n",
    "\n",
    "    h = self.linear_bn1(h)\n",
    "    h = self.relu(h)\n",
    "    #h = self.drop1(h) # experimental\n",
    "    h = self.linear1(h)\n",
    "\n",
    "    h = self.linear_bn2(h)\n",
    "    h = self.relu(h)\n",
    "    #h = self.drop2(h) # experimental\n",
    "    h = self.linear2(h)\n",
    "\n",
    "    h = self.linear3(h)\n",
    "\n",
    "    return(h)"
   ]
  },
  {
   "cell_type": "markdown",
   "metadata": {
    "id": "HQJILe_TqnKw"
   },
   "source": [
    "### Dataset Generation"
   ]
  },
  {
   "cell_type": "markdown",
   "metadata": {
    "id": "yX5eLnUzrzn3"
   },
   "source": [
    "#### class ConstructDataset"
   ]
  },
  {
   "cell_type": "code",
   "execution_count": 30,
   "metadata": {
    "id": "E1xVdoz_sLe3"
   },
   "outputs": [],
   "source": [
    "class ConstructDataset(torch.utils.data.Dataset):\n",
    "  def __init__(self, X, Y):\n",
    "    device_id = 0 if torch.cuda.is_available() else 'cpu'\n",
    "    device = torch.device(device_id)\n",
    "\n",
    "    if isinstance(X, np.ndarray):\n",
    "      self.X = torch.FloatTensor(X).to(device)\n",
    "    else:\n",
    "      self.X = X.to(device)\n",
    "    if isinstance(Y, np.ndarray):\n",
    "      self.Y = torch.LongTensor(Y).to(device)\n",
    "    else:\n",
    "      self.Y = Y.to(device)\n",
    "    return\n",
    "\n",
    "  def __len__(self):\n",
    "    return len(self.X)\n",
    "\n",
    "  def __getitem__(self,index):\n",
    "    return self.X[index], self.Y[index]"
   ]
  },
  {
   "cell_type": "markdown",
   "metadata": {
    "id": "twengiezNDPp"
   },
   "source": [
    "#### Generate channel matrices $\\mathbf{H}_{train}$ and $\\mathbf{H}_{test}$"
   ]
  },
  {
   "cell_type": "code",
   "execution_count": 31,
   "metadata": {
    "colab": {
     "base_uri": "https://localhost:8080/"
    },
    "id": "kAqSmzGPKCLj",
    "outputId": "b7f10461-7282-4bda-ec7b-81adcc6e93cb"
   },
   "outputs": [
    {
     "name": "stdout",
     "output_type": "stream",
     "text": [
      "(1000,)\n",
      "(1000,)\n",
      "(32, 1000)\n"
     ]
    }
   ],
   "source": [
    "# H_train represents H_train_val\n",
    "n_training_instances = 1000\n",
    "angle_spacing_rad = 10*np.pi/180 # Ensure at least 10 degree spacing between angles\n",
    "ind_phi_1_train, ind_phi_2_train, H_train = generate_channel_matrix(N_R, n_training_instances, alpha_1, AoA_vec_K, angle_spacing_rad,\n",
    "                                                                    secondary_path_gain_dB=-15,L=2)\n",
    "print(ind_phi_1_train.shape)\n",
    "print(ind_phi_2_train.shape)\n",
    "print(H_train.shape)"
   ]
  },
  {
   "cell_type": "code",
   "execution_count": 32,
   "metadata": {
    "colab": {
     "base_uri": "https://localhost:8080/"
    },
    "id": "QYJ8-0lfKn23",
    "outputId": "1263a365-f701-47b1-aca3-cb1758125056"
   },
   "outputs": [
    {
     "name": "stdout",
     "output_type": "stream",
     "text": [
      "(400,)\n",
      "(400,)\n",
      "(32, 400)\n"
     ]
    }
   ],
   "source": [
    "n_testing_instances = 400\n",
    "angle_spacing_rad = 10*np.pi/180 # Ensure at least 10 degree spacing between angles\n",
    "ind_phi_1_test, ind_phi_2_test, H_test = generate_channel_matrix(N_R, n_testing_instances, alpha_1, AoA_vec_K, angle_spacing_rad,\n",
    "                                                                 secondary_path_gain_dB=-15,L=2)\n",
    "print(ind_phi_1_test.shape)\n",
    "print(ind_phi_2_test.shape)\n",
    "print(H_test.shape)"
   ]
  },
  {
   "cell_type": "markdown",
   "metadata": {
    "id": "xd-XUhzdNO5Y"
   },
   "source": [
    "#### Generate noise matrices $\\mathbf{N}_{train}$ and $\\mathbf{N}_{test}$"
   ]
  },
  {
   "cell_type": "code",
   "execution_count": 33,
   "metadata": {
    "colab": {
     "base_uri": "https://localhost:8080/"
    },
    "id": "7q__1kjgMv_i",
    "outputId": "96d1e857-532e-4a5e-9a1d-adb72dab8050"
   },
   "outputs": [
    {
     "name": "stdout",
     "output_type": "stream",
     "text": [
      "(32, 1000)\n",
      "(32, 400)\n"
     ]
    }
   ],
   "source": [
    "# N_train represents N_train_val\n",
    "select_SNR_dB = 20\n",
    "noise_mat_train = generate_awgn_matrix(np.ones(H_train.shape)*alpha_1/np.sqrt(N_R), select_SNR_dB)\n",
    "noise_mat_test = generate_awgn_matrix(np.ones(H_test.shape)*alpha_1/np.sqrt(N_R), select_SNR_dB)\n",
    "print(noise_mat_train.shape)\n",
    "print(noise_mat_test.shape)"
   ]
  },
  {
   "cell_type": "code",
   "execution_count": 34,
   "metadata": {
    "colab": {
     "base_uri": "https://localhost:8080/"
    },
    "id": "6j4HwIDTRtlZ",
    "outputId": "5e7e0f6b-8f35-4461-f15f-c39beaa10fdc"
   },
   "outputs": [
    {
     "name": "stdout",
     "output_type": "stream",
     "text": [
      "21.73147027693957\n",
      "21.60334192388528\n"
     ]
    }
   ],
   "source": [
    "print(snr(H_test[:,110], noise_mat_test[:,110]))\n",
    "print(snr(10/np.sqrt(N_R), noise_mat_test[:,110]))"
   ]
  },
  {
   "cell_type": "markdown",
   "metadata": {
    "id": "1b61OWxqcPW5"
   },
   "source": [
    "#### Generate PSS Measurements for -15 dB secondary path relative gain (with and without impairments)"
   ]
  },
  {
   "cell_type": "code",
   "execution_count": 35,
   "metadata": {
    "colab": {
     "base_uri": "https://localhost:8080/"
    },
    "id": "4PbN7QqscZIx",
    "outputId": "2310689d-1299-45b7-93f6-7743c269f2a1"
   },
   "outputs": [
    {
     "name": "stdout",
     "output_type": "stream",
     "text": [
      "(12, 1000)\n",
      "(12, 400)\n",
      "(12, 1000)\n",
      "(12, 400)\n",
      "(1000,) min:  0 max:  63\n",
      "(400,) min:  0 max:  63\n"
     ]
    }
   ],
   "source": [
    "Y_PSS_train_val = np.power(np.abs(W_S.H @ (H_train + noise_mat_train)),2)\n",
    "Y_PSS_test = np.power(np.abs(W_S.H @ (H_test + noise_mat_test)),2)\n",
    "\n",
    "Y_PSS_impaired_train_val = np.power(np.abs(W_S.H @ B @ (H_train + noise_mat_train)),2)\n",
    "Y_PSS_impaired_test = np.power(np.abs(W_S.H @ B @ (H_test + noise_mat_test)),2)\n",
    "\n",
    "labels_train_val = ind_phi_1_train\n",
    "labels_test = ind_phi_1_test\n",
    "\n",
    "print(Y_PSS_train_val.shape)\n",
    "print(Y_PSS_test.shape)\n",
    "print(Y_PSS_impaired_train_val.shape)\n",
    "print(Y_PSS_impaired_test.shape)\n",
    "print(labels_train_val.shape, 'min: ', np.min(labels_train_val), 'max: ', np.max(labels_train_val))\n",
    "print(labels_test.shape, 'min: ', np.min(labels_test), 'max: ', np.max(labels_test))"
   ]
  },
  {
   "cell_type": "markdown",
   "metadata": {
    "id": "1syTRGHYn5jr"
   },
   "source": [
    "### **Results**"
   ]
  },
  {
   "cell_type": "markdown",
   "metadata": {
    "id": "MCBu7jycoK_U"
   },
   "source": [
    "#### 1) Plot beam patterns"
   ]
  },
  {
   "cell_type": "code",
   "execution_count": 36,
   "metadata": {
    "id": "nlfy45fqVXMR"
   },
   "outputs": [],
   "source": [
    "np.random.seed(42)"
   ]
  },
  {
   "cell_type": "code",
   "execution_count": 37,
   "metadata": {
    "colab": {
     "base_uri": "https://localhost:8080/"
    },
    "id": "LeqDsX-xV2Xe",
    "outputId": "f0b84adb-6c87-49b5-a3bb-9b5cd4cd1e02"
   },
   "outputs": [
    {
     "data": {
      "text/plain": [
       "44.76190476190476"
      ]
     },
     "execution_count": 37,
     "metadata": {},
     "output_type": "execute_result"
    }
   ],
   "source": [
    "AoA_vec_K[55]*180/np.pi"
   ]
  },
  {
   "cell_type": "code",
   "execution_count": 38,
   "metadata": {
    "id": "KBtsUwFEdVGh"
   },
   "outputs": [],
   "source": [
    "w_d = np.matrix(W_D[:,55].reshape(-1,1))\n",
    "w_s = np.matrix(W_S[:,0].reshape(-1,1))\n",
    "\n",
    "angle_sweep_vec = AoA_vec_K # np.arange(-np.pi/3, np.pi/3, 0.001)\n",
    "H_sweep = list()\n",
    "for col, select_angle in enumerate(angle_sweep_vec):\n",
    "  h1_temp = alpha_1/np.sqrt(N_R)*generate_array_response(N_R, select_angle, d_lambda_ratio).reshape(N_R)\n",
    "\n",
    "  select_angle_2 = np.random.choice(AoA_vec_K[np.abs(AoA_vec_K - select_angle) >= 10*np.pi/180])\n",
    "  h2_temp = alpha_2/np.sqrt(N_R)*generate_array_response(N_R, select_angle_2, d_lambda_ratio).reshape(N_R)\n",
    "\n",
    "  H_sweep.append(h1_temp+h2_temp)\n",
    "\n",
    "H_sweep_np = np.array(H_sweep).reshape(N_R, len(angle_sweep_vec))\n",
    "\n",
    "gain_w_d = np.array(np.abs(w_d.H @ H_sweep_np)).reshape(len(angle_sweep_vec))**2\n",
    "gain_w_s = np.array(np.abs(w_s.H @ H_sweep_np)).reshape(len(angle_sweep_vec))**2\n",
    "gain_w_d_impaired = np.array(np.abs(w_d.H @ B @ H_sweep_np)).reshape(len(angle_sweep_vec))**2\n",
    "gain_w_s_impaired = np.array(np.abs(w_s.H @ B @ H_sweep_np)).reshape(len(angle_sweep_vec))**2"
   ]
  },
  {
   "cell_type": "code",
   "execution_count": 39,
   "metadata": {
    "colab": {
     "base_uri": "https://localhost:8080/",
     "height": 481
    },
    "id": "C-ivcqzQTt1n",
    "outputId": "78796ef9-1390-4d6c-af4a-bdf74ab698c7"
   },
   "outputs": [
    {
     "data": {
      "image/png": "[encoded data removed]",
      "text/plain": [
       "<Figure size 640x480 with 1 Axes>"
      ]
     },
     "metadata": {},
     "output_type": "display_data"
    }
   ],
   "source": [
    "plt.figure()\n",
    "plt.axes(projection='polar')\n",
    "plt.polar(angle_sweep_vec, gain_w_d, '-')\n",
    "plt.polar(angle_sweep_vec, gain_w_d_impaired, '-')\n",
    "plt.title('Beam patterns for directional codeword')\n",
    "plt.legend(['Original beam pattern','Beam pattern with impairment'])\n",
    "plt.show()"
   ]
  },
  {
   "cell_type": "code",
   "execution_count": 40,
   "metadata": {
    "colab": {
     "base_uri": "https://localhost:8080/",
     "height": 481
    },
    "id": "tbsFg9xpTueo",
    "outputId": "89c8485e-03d9-4831-f78a-85cb62242773"
   },
   "outputs": [
    {
     "data": {
      "image/png": "[encoded data removed]",
      "text/plain": [
       "<Figure size 640x480 with 1 Axes>"
      ]
     },
     "metadata": {},
     "output_type": "display_data"
    }
   ],
   "source": [
    "plt.figure()\n",
    "plt.axes(projection='polar')\n",
    "plt.polar(angle_sweep_vec, gain_w_s, '-')\n",
    "plt.polar(angle_sweep_vec, gain_w_s_impaired, '-')\n",
    "plt.title('Beam patterns for compressive codeword')\n",
    "plt.legend(['Original beam pattern','Beam pattern with impairment'])\n",
    "plt.show()"
   ]
  },
  {
   "cell_type": "markdown",
   "metadata": {
    "id": "uQ6YR27loQbk"
   },
   "source": [
    "#### 2-4) Construct datasets for all experiments"
   ]
  },
  {
   "cell_type": "markdown",
   "metadata": {
    "id": "utqcTSCO8R00"
   },
   "source": [
    "##### Generate PyTorch Datasets"
   ]
  },
  {
   "cell_type": "code",
   "execution_count": 41,
   "metadata": {
    "colab": {
     "base_uri": "https://localhost:8080/"
    },
    "id": "nqdzTIOZ-1zk",
    "outputId": "e65e5f6f-3237-40be-bd55-5faed587c789"
   },
   "outputs": [
    {
     "name": "stdout",
     "output_type": "stream",
     "text": [
      "cuda:0\n"
     ]
    }
   ],
   "source": [
    "# Set batch size and check for CUDA\n",
    "batch_size = 64\n",
    "torch.cuda.empty_cache()\n",
    "device_id = 0 if torch.cuda.is_available() else 'cpu'\n",
    "device = torch.device(device_id)\n",
    "print(device)"
   ]
  },
  {
   "cell_type": "markdown",
   "metadata": {
    "id": "zmCBLr_48bVC"
   },
   "source": [
    "##### Preallocate data lists"
   ]
  },
  {
   "cell_type": "markdown",
   "metadata": {
    "id": "qQe1cRGU8iAi"
   },
   "source": [
    "###### Generate data for SNR sweep (M = 8)"
   ]
  },
  {
   "cell_type": "code",
   "execution_count": 42,
   "metadata": {
    "id": "Ui9nOFITz-19"
   },
   "outputs": [],
   "source": [
    "# step 0: select SNR\n",
    "# step 1: generate PSS features by varying noise (and with + w/o B)\n",
    "# step 2: rename features\n",
    "# step 3: train_val split\n",
    "# step 4: assign features and labels to dictionary\n",
    "\n",
    "list_M_8_SNR_dB_sweep_ideal = []\n",
    "list_M_8_SNR_dB_sweep_impaired = []\n",
    "\n",
    "choose_M = 8\n",
    "\n",
    "# Use snr_range_dB\n",
    "for ind, select_SNR_dB in enumerate(snr_range_dB):\n",
    "  ##### ========== Generate noise using selected SNR ========== #####\n",
    "  noise_mat_train = generate_awgn_matrix(np.ones(H_train.shape)*alpha_1/np.sqrt(N_R), select_SNR_dB)\n",
    "  noise_mat_test = generate_awgn_matrix(np.ones(H_test.shape)*alpha_1/np.sqrt(N_R), select_SNR_dB)\n",
    "\n",
    "  ##### ========== Compute PSS measurements (ideal and with impairments) ========== #####\n",
    "  Y_PSS_train_val = np.power(np.abs(W_S.H @ (H_train + noise_mat_train)),2)\n",
    "  Y_PSS_test = np.power(np.abs(W_S.H @ (H_test + noise_mat_test)),2)\n",
    "\n",
    "  Y_PSS_impaired_train_val = np.power(np.abs(W_S.H @ B @ (H_train + noise_mat_train)),2) # np.power(np.abs(W_S.H @ B @ (H_train + noise_mat_train)),2)\n",
    "  Y_PSS_impaired_test = np.power(np.abs(W_S.H @ B @ (H_test + noise_mat_test)),2) # np.power(np.abs(W_S.H @ B @ (H_test + noise_mat_test)),2)\n",
    "\n",
    "  labels_train_val = ind_phi_1_train.copy()\n",
    "  labels_test = ind_phi_1_test.copy()\n",
    "\n",
    "  ##### ========== Select number of measurements based on M ========== #####\n",
    "  m_sampled_measurements = np.arange(choose_M) # np.random.choice(np.arange(choose_M), size=choose_M, replace=False)\n",
    "\n",
    "  ##### ========== Rename PSS measurements and labels (ideal and with impairments) ========== #####\n",
    "  # Ideal\n",
    "  X_train_val_np = Y_PSS_train_val[m_sampled_measurements,:].T\n",
    "  y_train_val_np = labels_train_val\n",
    "\n",
    "  X_test_np = Y_PSS_test[m_sampled_measurements,:].T\n",
    "  y_test_np = labels_test\n",
    "\n",
    "  # With impairments\n",
    "  X_train_val_impaired_np = Y_PSS_impaired_train_val[m_sampled_measurements,:].T\n",
    "  y_train_val_impaired_np = labels_train_val\n",
    "\n",
    "  X_test_impaired_np = Y_PSS_impaired_test[m_sampled_measurements,:].T\n",
    "  y_test_impaired_np = labels_test\n",
    "\n",
    "  ##### ========== Split dataset into training and validation sets ========== #####\n",
    "  ##### Without impairments\n",
    "  X_train_np, X_val_np, y_train_np, y_val_np = train_test_split(X_train_val_np,\n",
    "                                                                y_train_val_np,\n",
    "                                                                test_size=0.2,\n",
    "                                                                random_state=42)\n",
    "\n",
    "  ##### With impairments\n",
    "  X_train_impaired_np, X_val_impaired_np, y_train_impaired_np, y_val_impaired_np = train_test_split(X_train_val_impaired_np,\n",
    "                                                                                                    y_train_val_impaired_np,\n",
    "                                                                                                    test_size=0.2,\n",
    "                                                                                                    random_state=42)\n",
    "\n",
    "  ##### ========== Store values in dictionary ========== #####\n",
    "  list_M_8_SNR_dB_sweep_ideal.append(((X_train_np.copy(), y_train_np.copy()),\n",
    "                                      (X_val_np.copy(), y_val_np.copy()),\n",
    "                                      (X_test_np.copy(), y_test_np.copy())))\n",
    "\n",
    "  list_M_8_SNR_dB_sweep_impaired.append(((X_train_impaired_np.copy(), y_train_impaired_np.copy()),\n",
    "                                          (X_val_impaired_np.copy(), y_val_impaired_np.copy()),\n",
    "                                          (X_test_impaired_np.copy(), y_test_impaired_np.copy())))\n"
   ]
  },
  {
   "cell_type": "markdown",
   "metadata": {
    "id": "HviYbJFa9AuJ"
   },
   "source": [
    "###### Generate data for M sweep (SNR = 20 dB)"
   ]
  },
  {
   "cell_type": "code",
   "execution_count": 43,
   "metadata": {
    "colab": {
     "base_uri": "https://localhost:8080/"
    },
    "id": "A2swXglE9gVi",
    "outputId": "0836e182-6cd5-474b-fe51-587f3d2814df"
   },
   "outputs": [
    {
     "data": {
      "text/plain": [
       "(12, 1000)"
      ]
     },
     "execution_count": 43,
     "metadata": {},
     "output_type": "execute_result"
    }
   ],
   "source": [
    "Y_PSS_train_val.shape"
   ]
  },
  {
   "cell_type": "code",
   "execution_count": 44,
   "metadata": {
    "colab": {
     "base_uri": "https://localhost:8080/"
    },
    "id": "q22hGjL94eBy",
    "outputId": "367acd1e-4e68-40f4-dbde-6c3708747d66"
   },
   "outputs": [
    {
     "name": "stdout",
     "output_type": "stream",
     "text": [
      "(800, 4)\n",
      "(800, 8)\n",
      "(800, 12)\n"
     ]
    }
   ],
   "source": [
    "# step 0: select M, for fixed SNR dB\n",
    "# step 1: generate PSS features for all 12 measurements\n",
    "# step 2: select M rows of Y as the measurements\n",
    "# step 3: rename features\n",
    "# step 4: train_val split\n",
    "# step 5: assign features and labels to dictionary\n",
    "\n",
    "list_SNR_dB_20_M_sweep_ideal = []\n",
    "list_SNR_dB_20_M_sweep_impaired = []\n",
    "\n",
    "M_range = np.array([4, 8, 12])\n",
    "select_SNR_dB = 20\n",
    "\n",
    "# Use snr_range_dB\n",
    "for ind, choose_M in enumerate(M_range):\n",
    "  ##### ========== Generate noise using selected SNR ========== #####\n",
    "  noise_mat_train = generate_awgn_matrix(np.ones(H_train.shape)*alpha_1/np.sqrt(N_R), select_SNR_dB)\n",
    "  noise_mat_test = generate_awgn_matrix(np.ones(H_test.shape)*alpha_1/np.sqrt(N_R), select_SNR_dB)\n",
    "\n",
    "  ##### ========== Compute PSS measurements (ideal and with impairments) ========== #####\n",
    "  Y_PSS_train_val = np.power(np.abs(W_S.H @ (H_train + noise_mat_train)),2)\n",
    "  Y_PSS_test = np.power(np.abs(W_S.H @ (H_test + noise_mat_test)),2)\n",
    "\n",
    "  Y_PSS_impaired_train_val = np.power(np.abs(W_S.H @ B @ (H_train + noise_mat_train)),2) # np.power(np.abs(W_S.H @ B @ (H_train + noise_mat_train)),2)\n",
    "  Y_PSS_impaired_test = np.power(np.abs(W_S.H @ B @ (H_test + noise_mat_test)),2) # np.power(np.abs(W_S.H @ B @ (H_test + noise_mat_test)),2)\n",
    "\n",
    "  labels_train_val = ind_phi_1_train.copy()\n",
    "  labels_test = ind_phi_1_test.copy()\n",
    "\n",
    "  ##### ========== Select number of measurements based on M ========== #####\n",
    "  m_sampled_measurements = np.arange(choose_M) # np.random.choice(np.arange(choose_M), size=choose_M, replace=False) # np.arange(choose_M)\n",
    "\n",
    "  ##### ========== Rename PSS measurements and labels (ideal and with impairments) ========== #####\n",
    "  # Ideal\n",
    "  X_train_val_np = Y_PSS_train_val[m_sampled_measurements,:].T\n",
    "  y_train_val_np = labels_train_val\n",
    "\n",
    "  X_test_np = Y_PSS_test[m_sampled_measurements,:].T\n",
    "  y_test_np = labels_test\n",
    "\n",
    "  # With impairments\n",
    "  X_train_val_impaired_np = Y_PSS_impaired_train_val[m_sampled_measurements,:].T\n",
    "  y_train_val_impaired_np = labels_train_val\n",
    "\n",
    "  X_test_impaired_np = Y_PSS_impaired_test[m_sampled_measurements,:].T\n",
    "  y_test_impaired_np = labels_test\n",
    "\n",
    "  ##### ========== Split dataset into training and validation sets ========== #####\n",
    "  ##### Without impairments\n",
    "  X_train_np, X_val_np, y_train_np, y_val_np = train_test_split(X_train_val_np,\n",
    "                                                                y_train_val_np,\n",
    "                                                                test_size=0.2,\n",
    "                                                                random_state=42)\n",
    "\n",
    "  ##### With impairments\n",
    "  X_train_impaired_np, X_val_impaired_np, y_train_impaired_np, y_val_impaired_np = train_test_split(X_train_val_impaired_np,\n",
    "                                                                                                    y_train_val_impaired_np,\n",
    "                                                                                                    test_size=0.2,\n",
    "                                                                                                    random_state=42)\n",
    "\n",
    "  print(X_train_np.shape)\n",
    "  ##### ========== Store values in dictionary ========== #####\n",
    "  list_SNR_dB_20_M_sweep_ideal.append(((X_train_np.copy(), y_train_np.copy()),\n",
    "                                      (X_val_np.copy(), y_val_np.copy()),\n",
    "                                      (X_test_np.copy(), y_test_np.copy())))\n",
    "\n",
    "  list_SNR_dB_20_M_sweep_impaired.append(((X_train_impaired_np.copy(), y_train_impaired_np.copy()),\n",
    "                                          (X_val_impaired_np.copy(), y_val_impaired_np.copy()),\n",
    "                                          (X_test_impaired_np.copy(), y_test_impaired_np.copy())))\n",
    "\n"
   ]
  },
  {
   "cell_type": "markdown",
   "metadata": {
    "id": "sKZzRWIpAYKa"
   },
   "source": [
    "###### Generate data for secondary path sweep (M = 8, SNR = 20 dB)"
   ]
  },
  {
   "cell_type": "code",
   "execution_count": 45,
   "metadata": {
    "colab": {
     "base_uri": "https://localhost:8080/"
    },
    "id": "j63NEx3DAb24",
    "outputId": "75ae2f5f-99dc-4378-a253-78b313d3488b"
   },
   "outputs": [
    {
     "name": "stdout",
     "output_type": "stream",
     "text": [
      "(800, 8)\n",
      "(800, 8)\n",
      "(800, 8)\n",
      "(800, 8)\n",
      "(800, 8)\n"
     ]
    }
   ],
   "source": [
    "# step 0: select alpha_2 and generate new H, for fixed M and fixed SNR dB\n",
    "# step 1: generate PSS features for all 8 measurements\n",
    "# step 2: generate new labels for each H\n",
    "# step 3: select M rows of Y as the measurements\n",
    "# step 4: rename features\n",
    "# step 5: train_val split\n",
    "# step 6: assign features and labels to dictionary\n",
    "\n",
    "list_SNR_dB_20_M_8_secondary_L_2_sweep_ideal = []\n",
    "list_SNR_dB_20_M_8_secondary_L_2_sweep_impaired = []\n",
    "\n",
    "choose_M = 8\n",
    "select_SNR_dB = 20\n",
    "secondary_gain_range = np.arange(-15,-2,3)\n",
    "\n",
    "# Use rel_gain_dB\n",
    "for ind, rel_gain_dB in enumerate(secondary_gain_range):\n",
    "  ##### ========== Generate temp_H ========== #####\n",
    "  # temp_H_train represents temp_H_train_val\n",
    "  n_training_instances = 1000\n",
    "  angle_spacing_rad = 10*np.pi/180 # Ensure at least 10 degree spacing between angles\n",
    "  temp_ind_phi_1_train, temp_ind_phi_2_train, temp_H_train = generate_channel_matrix(N_R, n_training_instances,\n",
    "                                                                                     alpha_1,\n",
    "                                                                                     AoA_vec_K,\n",
    "                                                                                     angle_spacing_rad,\n",
    "                                                                                     secondary_path_gain_dB=rel_gain_dB,L=2)\n",
    "\n",
    "  n_testing_instances = 400\n",
    "  angle_spacing_rad = 10*np.pi/180 # Ensure at least 10 degree spacing between angles\n",
    "  temp_ind_phi_1_test, temp_ind_phi_2_test, temp_H_test = generate_channel_matrix(N_R, n_testing_instances,\n",
    "                                                                                  alpha_1,\n",
    "                                                                                  AoA_vec_K,\n",
    "                                                                                  angle_spacing_rad,\n",
    "                                                                                  secondary_path_gain_dB=rel_gain_dB,L=2)\n",
    "\n",
    "\n",
    "  ##### ========== Generate noise using selected SNR ========== #####\n",
    "  temp_noise_mat_train = generate_awgn_matrix(np.ones(temp_H_train.shape)*alpha_1/np.sqrt(N_R), select_SNR_dB)\n",
    "  temp_noise_mat_test = generate_awgn_matrix(np.ones(temp_H_test.shape)*alpha_1/np.sqrt(N_R), select_SNR_dB)\n",
    "\n",
    "  ##### ========== Compute PSS measurements (ideal and with impairments) ========== #####\n",
    "  Y_PSS_train_val = np.power(np.abs(W_S.H @ (temp_H_train + temp_noise_mat_train)),2)\n",
    "  Y_PSS_test = np.power(np.abs(W_S.H @ (temp_H_test + temp_noise_mat_test)),2)\n",
    "\n",
    "  Y_PSS_impaired_train_val = np.power(np.abs(W_S.H @ B @ (temp_H_train + temp_noise_mat_train)),2) # np.power(np.abs(W_S.H @ B @ (temp_H_train + temp_noise_mat_train)),2)\n",
    "  Y_PSS_impaired_test = np.power(np.abs(W_S.H @ B @ (temp_H_test + temp_noise_mat_test)),2) # np.power(np.abs(W_S.H @ B @ (temp_H_test + temp_noise_mat_test)),2)\n",
    "\n",
    "  labels_train_val = temp_ind_phi_1_train.copy()\n",
    "  labels_test = temp_ind_phi_1_test.copy()\n",
    "\n",
    "  ##### ========== Select number of measurements based on M ========== #####\n",
    "  m_sampled_measurements = np.arange(choose_M) # np.random.choice(np.arange(choose_M), size=choose_M, replace=False) # np.arange(choose_M)\n",
    "\n",
    "  ##### ========== Rename PSS measurements and labels (ideal and with impairments) ========== #####\n",
    "  # Ideal\n",
    "  X_train_val_np = Y_PSS_train_val[m_sampled_measurements,:].T\n",
    "  y_train_val_np = labels_train_val.copy()\n",
    "\n",
    "  X_test_np = Y_PSS_test[m_sampled_measurements,:].T\n",
    "  y_test_np = labels_test.copy()\n",
    "\n",
    "  # With impairments\n",
    "  X_train_val_impaired_np = Y_PSS_impaired_train_val[m_sampled_measurements,:].T\n",
    "  y_train_val_impaired_np = labels_train_val.copy()\n",
    "\n",
    "  X_test_impaired_np = Y_PSS_impaired_test[m_sampled_measurements,:].T\n",
    "  y_test_impaired_np = labels_test.copy()\n",
    "\n",
    "  ##### ========== Split dataset into training and validation sets ========== #####\n",
    "  ##### Without impairments\n",
    "  X_train_np, X_val_np, y_train_np, y_val_np = train_test_split(X_train_val_np,\n",
    "                                                                y_train_val_np,\n",
    "                                                                test_size=0.2,\n",
    "                                                                random_state=42)\n",
    "\n",
    "  ##### With impairments\n",
    "  X_train_impaired_np, X_val_impaired_np, y_train_impaired_np, y_val_impaired_np = train_test_split(X_train_val_impaired_np,\n",
    "                                                                                                    y_train_val_impaired_np,\n",
    "                                                                                                    test_size=0.2,\n",
    "                                                                                                    random_state=42)\n",
    "\n",
    "  print(X_train_np.shape)\n",
    "  ##### ========== Store values in dictionary ========== #####\n",
    "  list_SNR_dB_20_M_8_secondary_L_2_sweep_ideal.append(((X_train_np.copy(), y_train_np.copy()),\n",
    "                                      (X_val_np.copy(), y_val_np.copy()),\n",
    "                                      (X_test_np.copy(), y_test_np.copy())))\n",
    "\n",
    "  list_SNR_dB_20_M_8_secondary_L_2_sweep_impaired.append(((X_train_impaired_np.copy(), y_train_impaired_np.copy()),\n",
    "                                          (X_val_impaired_np.copy(), y_val_impaired_np.copy()),\n",
    "                                          (X_test_impaired_np.copy(), y_test_impaired_np.copy())))\n",
    "\n",
    "\n"
   ]
  },
  {
   "cell_type": "markdown",
   "metadata": {
    "id": "f3DtQbJarzaW"
   },
   "source": [
    "##### PyTorch train and validation DataLoaders with test tensors"
   ]
  },
  {
   "cell_type": "markdown",
   "metadata": {
    "id": "y8sF1UA9HLw_"
   },
   "source": [
    "##### train_val_test_torch_tuple(tuple_train_val_test)"
   ]
  },
  {
   "cell_type": "code",
   "execution_count": 46,
   "metadata": {
    "id": "iAFY292uHOSt"
   },
   "outputs": [],
   "source": [
    "def train_val_test_torch_tuple(tuple_train_val_test):\n",
    "  '''\n",
    "  Input: A 3-tuple of the form ((X_train, y_train), (X_val, y_val), (X_test, y_test))\n",
    "  Return: The 3-tuple (sel_train_dataloader, sel_val_dataloader, (select_X_test_nn, select_y_test_nn))\n",
    "  '''\n",
    "  select_X_train_np, select_y_train_np = tuple_train_val_test[0]\n",
    "  select_X_val_np, select_y_val_np = tuple_train_val_test[1]\n",
    "  select_X_test_np, select_y_test_np = tuple_train_val_test[2]\n",
    "\n",
    "  #print(select_X_train_np.shape)\n",
    "  #print(select_X_val_np.shape)\n",
    "  #print(select_X_test_np.shape)\n",
    "  device_id = 0 if torch.cuda.is_available() else 'cpu'\n",
    "  device = torch.device(device_id)\n",
    "\n",
    "  sel_train_dataset = ConstructDataset(select_X_train_np, select_y_train_np)\n",
    "  sel_train_dataloader = torch.utils.data.DataLoader(sel_train_dataset, batch_size=batch_size, shuffle=False) ##### Use this\n",
    "  sel_val_dataset = ConstructDataset(select_X_val_np, select_y_val_np)\n",
    "  sel_val_dataloader = torch.utils.data.DataLoader(sel_val_dataset, batch_size=batch_size, shuffle=False)  ##### Use this\n",
    "\n",
    "  # Test data\n",
    "  select_X_test_nn = torch.FloatTensor(select_X_test_np.copy()).to(device)\n",
    "  select_y_test_nn = torch.LongTensor(select_y_test_np.copy()).to(device)\n",
    "\n",
    "  return (sel_train_dataloader, sel_val_dataloader, (select_X_test_nn, select_y_test_nn))\n"
   ]
  },
  {
   "cell_type": "code",
   "execution_count": 47,
   "metadata": {
    "id": "xJwilSmCKNRD"
   },
   "outputs": [],
   "source": [
    "#my_tuple = train_val_test_torch_tuple(data_M_8_SNR_dB_sweep['ideal']['20'])[0]"
   ]
  },
  {
   "cell_type": "markdown",
   "metadata": {
    "id": "lM4jp22IR2CJ"
   },
   "source": [
    "##### train_validate_test_mmRAPID(train_dataloader, val_dataloader, X_test_nn, y_test_nn, select_M=12, select_K=64, n_epochs=200,loss_fn=nn.CrossEntropyLoss(),select_lr=0.01,select_weight_decay=0.01):\n"
   ]
  },
  {
   "cell_type": "code",
   "execution_count": 48,
   "metadata": {
    "id": "QuY1BPgtR4p_"
   },
   "outputs": [],
   "source": [
    "def train_validate_test_mmRAPID(train_dataloader, val_dataloader, X_test_nn, y_test_nn, select_M=12, select_K=64, n_epochs=200,loss_fn=nn.CrossEntropyLoss(),select_lr=0.001,select_weight_decay=0.01):\n",
    "  '''\n",
    "  Returns:\n",
    "  A dictionary with keys 'model', 'train_results', 'val_results', and 'test_results'\n",
    "  '''\n",
    "\n",
    "  '''\n",
    "  ##### ============== Train and validate model ============== #####\n",
    "  '''\n",
    "  torch.manual_seed(42)\n",
    "  random.seed(42)\n",
    "  np.random.seed(42)\n",
    "\n",
    "  batch_size = 64\n",
    "  torch.cuda.empty_cache()\n",
    "  device_id = 0 if torch.cuda.is_available() else 'cpu'\n",
    "  device = torch.device(device_id)\n",
    "\n",
    "  num_epochs = n_epochs\n",
    "  M = select_M\n",
    "  K = select_K\n",
    "\n",
    "  model = mmRAPID_MLP(M, K).to(device)\n",
    "  optimizer = torch.optim.RMSprop(model.parameters(), lr=select_lr, weight_decay=select_weight_decay) # Adam\n",
    "  loss_fn = nn.CrossEntropyLoss()\n",
    "\n",
    "  ##### ========== Preallocate train-val loss/accuracy histories ========== #####\n",
    "  train_loss_hist = []\n",
    "  val_loss_hist = []\n",
    "  train_acc_hist = []\n",
    "  val_acc_hist = []\n",
    "  ##### =================================================================== #####\n",
    "\n",
    "  pbar = tqdm(range(num_epochs))\n",
    "  #####\n",
    "  for epoch in pbar:\n",
    "    ##### ========== Train model ========== #####\n",
    "    model.train()\n",
    "    for batch in train_dataloader:\n",
    "      optimizer.zero_grad()\n",
    "      x, y = batch\n",
    "      x = x.to(device)\n",
    "      y = y.to(device)\n",
    "\n",
    "      out = model(x)\n",
    "      loss = loss_fn(out, y)\n",
    "      loss.backward()\n",
    "      optimizer.step()\n",
    "\n",
    "      train_loss_hist.append(loss.item()) # Save training loss\n",
    "\n",
    "    ##### ========== Evaluate model ========== #####\n",
    "    model.eval()\n",
    "\n",
    "    ##### Training accuracy\n",
    "    y_hat_epoch_train = []\n",
    "    y_true_epoch_train = []\n",
    "    with torch.no_grad():\n",
    "      for batch in train_dataloader:\n",
    "        x, y = batch\n",
    "        out = model(x)\n",
    "        y_hat_train = out.argmax(dim=1).detach().cpu().numpy()\n",
    "        y_true_train = y.detach().cpu().numpy()\n",
    "\n",
    "        y_hat_epoch_train.append(y_hat_train)\n",
    "        y_true_epoch_train.append(y_true_train)\n",
    "\n",
    "\n",
    "    y_hat_epoch_train = np.concatenate(y_hat_epoch_train).reshape((-1,))\n",
    "    y_true_epoch_train = np.concatenate(y_true_epoch_train).reshape((-1,))\n",
    "\n",
    "    epoch_train_acc = accuracy_score(y_hat_epoch_train, y_true_epoch_train)\n",
    "    train_acc_hist.append(epoch_train_acc) # Save training acc\n",
    "\n",
    "    ##### Validation loss and accuracy\n",
    "    y_hat_epoch_val = []\n",
    "    y_true_epoch_val = []\n",
    "    with torch.no_grad():\n",
    "      for batch in val_dataloader:\n",
    "        x, y = batch\n",
    "        x = x.to(device)\n",
    "        y = y.to(device)\n",
    "\n",
    "        out = model(x)\n",
    "        val_loss = loss_fn(out,y)\n",
    "        val_loss_hist.append(val_loss.item())\n",
    "\n",
    "        y_hat_val = out.argmax(dim=1).detach().cpu().numpy()\n",
    "        y_true_val = y.detach().cpu().numpy()\n",
    "\n",
    "        y_hat_epoch_val.append(y_hat_val)\n",
    "        y_true_epoch_val.append(y_true_val)\n",
    "\n",
    "\n",
    "\n",
    "    y_hat_epoch_val = np.concatenate(y_hat_epoch_val).reshape((-1,))\n",
    "    y_true_epoch_val = np.concatenate(y_true_epoch_val).reshape((-1,))\n",
    "\n",
    "    epoch_val_acc = accuracy_score(y_hat_epoch_val, y_true_epoch_val)\n",
    "    val_acc_hist.append(epoch_val_acc) # Save valing acc\n",
    "\n",
    "\n",
    "\n",
    "  ##### Print training and testing results\n",
    "  print('\\nTrain accuracy: ' + str(train_acc_hist[-1]) + ' , Train loss: ' + str(train_loss_hist[-1]))\n",
    "  print('Val accuracy: ' + str(val_acc_hist[-1])  + ' , Val loss: ' + str(val_loss_hist[-1]))\n",
    "  '''\n",
    "  ##### ============== Test model ============== #####\n",
    "  '''\n",
    "  model.eval()\n",
    "  y_hat_test_np = model(X_test_nn).argmax(dim=1).detach().cpu().numpy()\n",
    "  y_test_np = y_test_nn.detach().cpu().numpy()\n",
    "\n",
    "  test_acc = accuracy_score(y_test_np, y_hat_test_np)\n",
    "  print('Test accuracy: ' + str(test_acc))\n",
    "\n",
    "  ##### Compute RMSE between estimated angles and actual angles for given SNR\n",
    "  test_RMSE_for_SNR = np.sqrt(mean_squared_error(AoA_vec_K[y_test_np], AoA_vec_K[y_hat_test_np]))\n",
    "  print('RMSE = ' + str(test_RMSE_for_SNR))\n",
    "\n",
    "\n",
    "  '''\n",
    "  ##### ============== Construct dictionaries ============== #####\n",
    "  '''\n",
    "  train_results = {'train_acc_hist': train_acc_hist.copy(), 'train_loss_hist': train_loss_hist.copy()}\n",
    "  val_results = {'val_acc_hist': val_acc_hist.copy(), 'val_loss_hist': val_loss_hist.copy()}\n",
    "  test_results = {'test_accuracy': test_acc.copy(), 'RMSE': test_RMSE_for_SNR.copy()}\n",
    "\n",
    "  return {'model': deepcopy(model),\n",
    "          'train_results': train_results.copy(),\n",
    "          'val_results': val_results.copy(),\n",
    "          'test_results': test_results.copy()}\n"
   ]
  },
  {
   "cell_type": "markdown",
   "metadata": {
    "id": "eC6D4Sf62hQV"
   },
   "source": [
    "##### Data list lengths"
   ]
  },
  {
   "cell_type": "code",
   "execution_count": 49,
   "metadata": {
    "colab": {
     "base_uri": "https://localhost:8080/"
    },
    "id": "h12bOYcY2gVL",
    "outputId": "efb80cf1-1e3f-4a17-b568-90baeeb0141c"
   },
   "outputs": [
    {
     "name": "stdout",
     "output_type": "stream",
     "text": [
      "dB sweep\n",
      "SNR dB range:  [ 0  5 10 15 20 25 30]\n",
      "7\n",
      "7\n",
      "\n",
      "M sweep\n",
      "M sweep range: [ 4  8 12]\n",
      "3\n",
      "3\n",
      "\n",
      "L sweep [-15 -12  -9  -6  -3]\n",
      "5\n",
      "5\n"
     ]
    }
   ],
   "source": [
    "print('dB sweep')\n",
    "print('SNR dB range: ', snr_range_dB)\n",
    "print(len(list_M_8_SNR_dB_sweep_ideal))\n",
    "print(len(list_M_8_SNR_dB_sweep_impaired))\n",
    "\n",
    "print('\\nM sweep')\n",
    "print('M sweep range:', M_range)\n",
    "print(len(list_SNR_dB_20_M_sweep_ideal))\n",
    "print(len(list_SNR_dB_20_M_sweep_impaired))\n",
    "\n",
    "print('\\nL sweep', secondary_gain_range)\n",
    "print(len(list_SNR_dB_20_M_8_secondary_L_2_sweep_ideal))\n",
    "print(len(list_SNR_dB_20_M_8_secondary_L_2_sweep_impaired))"
   ]
  },
  {
   "cell_type": "markdown",
   "metadata": {
    "id": "hVQ6usEg7-jT"
   },
   "source": [
    "#### 2-4) Train-val loss sandbox"
   ]
  },
  {
   "cell_type": "code",
   "execution_count": 50,
   "metadata": {
    "colab": {
     "base_uri": "https://localhost:8080/"
    },
    "id": "HFOV2m6Y8EQS",
    "outputId": "2e795bda-d7e6-404e-9ee7-2d5275a8cc4e"
   },
   "outputs": [
    {
     "name": "stderr",
     "output_type": "stream",
     "text": [
      "100%|██████████| 150/150 [00:08<00:00, 17.10it/s]"
     ]
    },
    {
     "name": "stdout",
     "output_type": "stream",
     "text": [
      "\n",
      "Train accuracy: 0.8025 , Train loss: 0.5666450262069702\n",
      "Val accuracy: 0.715 , Val loss: 1.2625434398651123\n",
      "Test accuracy: 0.765\n",
      "RMSE = 0.49596539679576984\n",
      "mmRAPID_MLP(\n",
      "  (relu): ReLU()\n",
      "  (linear_bn1): BatchNorm1d(8, eps=1e-05, momentum=0.1, affine=True, track_running_stats=True)\n",
      "  (linear1): Linear(in_features=8, out_features=64, bias=True)\n",
      "  (drop1): Dropout(p=0.5, inplace=False)\n",
      "  (linear_bn2): BatchNorm1d(64, eps=1e-05, momentum=0.1, affine=True, track_running_stats=True)\n",
      "  (linear2): Linear(in_features=64, out_features=128, bias=True)\n",
      "  (drop2): Dropout(p=0.5, inplace=False)\n",
      "  (linear3): Linear(in_features=128, out_features=64, bias=True)\n",
      ")\n"
     ]
    },
    {
     "name": "stderr",
     "output_type": "stream",
     "text": [
      "\n"
     ]
    }
   ],
   "source": [
    "#my_model = train_validate_test_mmRAPID(train_dataloader, val_dataloader, X_test_nn, y_test_nn, select_M=8)\n",
    "dB_sweep_data_ideal = list_M_8_SNR_dB_sweep_ideal[3]\n",
    "dB_sweep_data_impaired = list_M_8_SNR_dB_sweep_impaired[3]\n",
    "\n",
    "M_sweep_data_ideal = list_SNR_dB_20_M_sweep_ideal[2]\n",
    "M_sweep_data_impaired = list_SNR_dB_20_M_sweep_impaired[2]\n",
    "\n",
    "L_sweep_data_ideal = list_SNR_dB_20_M_8_secondary_L_2_sweep_ideal[0]\n",
    "L_sweep_impaired = list_SNR_dB_20_M_8_secondary_L_2_sweep_impaired[1]\n",
    "\n",
    "my_tuple = train_val_test_torch_tuple(dB_sweep_data_impaired)\n",
    "my_model = train_validate_test_mmRAPID(my_tuple[0], my_tuple[1], my_tuple[2][0], my_tuple[2][1], select_M=8,\n",
    "                                       n_epochs=150,loss_fn=nn.CrossEntropyLoss())\n",
    "\n",
    "print(my_model['model'])"
   ]
  },
  {
   "cell_type": "code",
   "execution_count": 51,
   "metadata": {
    "colab": {
     "base_uri": "https://localhost:8080/",
     "height": 922
    },
    "id": "0iULvHlH8HLV",
    "outputId": "35e4f9f8-b562-4c75-e1be-d0600055c0b3"
   },
   "outputs": [
    {
     "data": {
      "image/png": "[encoded data removed]",
      "text/plain": [
       "<Figure size 640x480 with 2 Axes>"
      ]
     },
     "metadata": {},
     "output_type": "display_data"
    },
    {
     "data": {
      "image/png": "[encoded data removed]",
      "text/plain": [
       "<Figure size 640x480 with 1 Axes>"
      ]
     },
     "metadata": {},
     "output_type": "display_data"
    }
   ],
   "source": [
    "plt.figure()\n",
    "plt.plot(my_model['train_results']['train_loss_hist'],'b-',label='Training loss')\n",
    "plt.legend(loc='upper right')\n",
    "plt.xlabel('Iterations')\n",
    "plt.ylabel('CE Loss')\n",
    "plt.twiny()\n",
    "plt.plot(my_model['val_results']['val_loss_hist'],'r-',label='Validation loss')\n",
    "plt.legend(loc='upper left')\n",
    "plt.xlabel('Iterations')\n",
    "plt.ylabel('CE Loss')\n",
    "plt.show()\n",
    "\n",
    "plt.figure()\n",
    "plt.plot(my_model['train_results']['train_acc_hist'],'b-',label='Training loss')\n",
    "plt.plot(my_model['val_results']['val_acc_hist'],'r-',label='Validation loss')\n",
    "plt.legend()\n",
    "plt.xlabel('Epochs')\n",
    "plt.ylabel('Accuracy')\n",
    "plt.show()\n"
   ]
  },
  {
   "cell_type": "markdown",
   "metadata": {
    "id": "aa7j9ZNM19Zq"
   },
   "source": [
    "#### 2) RMSE of AoA vs RMSE with a -15 dB secondary path gain, M = 8"
   ]
  },
  {
   "cell_type": "code",
   "execution_count": 52,
   "metadata": {
    "colab": {
     "base_uri": "https://localhost:8080/"
    },
    "id": "8ST1OCWT4NeX",
    "outputId": "091dcbff-7137-4c55-823b-5f276a78b3f6"
   },
   "outputs": [
    {
     "name": "stdout",
     "output_type": "stream",
     "text": [
      "===============\n",
      "Ideal: SNR = 0 dB\n"
     ]
    },
    {
     "name": "stderr",
     "output_type": "stream",
     "text": [
      "100%|██████████| 150/150 [00:05<00:00, 25.16it/s]\n"
     ]
    },
    {
     "name": "stdout",
     "output_type": "stream",
     "text": [
      "\n",
      "Train accuracy: 0.21375 , Train loss: 2.197476863861084\n",
      "Val accuracy: 0.11 , Val loss: 3.615098237991333\n",
      "Test accuracy: 0.1175\n",
      "RMSE = 0.822482361786318\n",
      "\n",
      "Impaired: SNR = 0 dB\n"
     ]
    },
    {
     "name": "stderr",
     "output_type": "stream",
     "text": [
      "100%|██████████| 150/150 [00:05<00:00, 26.11it/s]\n"
     ]
    },
    {
     "name": "stdout",
     "output_type": "stream",
     "text": [
      "\n",
      "Train accuracy: 0.23125 , Train loss: 2.290365695953369\n",
      "Val accuracy: 0.085 , Val loss: 3.1843907833099365\n",
      "Test accuracy: 0.1325\n",
      "RMSE = 0.8210651934610743\n",
      "===============\n",
      "Ideal: SNR = 5 dB\n"
     ]
    },
    {
     "name": "stderr",
     "output_type": "stream",
     "text": [
      "100%|██████████| 150/150 [00:05<00:00, 26.03it/s]\n"
     ]
    },
    {
     "name": "stdout",
     "output_type": "stream",
     "text": [
      "\n",
      "Train accuracy: 0.4925 , Train loss: 1.3146332502365112\n",
      "Val accuracy: 0.31 , Val loss: 2.032360792160034\n",
      "Test accuracy: 0.345\n",
      "RMSE = 0.7906954401304306\n",
      "\n",
      "Impaired: SNR = 5 dB\n"
     ]
    },
    {
     "name": "stderr",
     "output_type": "stream",
     "text": [
      "100%|██████████| 150/150 [00:05<00:00, 26.45it/s]\n"
     ]
    },
    {
     "name": "stdout",
     "output_type": "stream",
     "text": [
      "\n",
      "Train accuracy: 0.465 , Train loss: 1.466805338859558\n",
      "Val accuracy: 0.28 , Val loss: 2.287228584289551\n",
      "Test accuracy: 0.3025\n",
      "RMSE = 0.7730369712516871\n",
      "===============\n",
      "Ideal: SNR = 10 dB\n"
     ]
    },
    {
     "name": "stderr",
     "output_type": "stream",
     "text": [
      "100%|██████████| 150/150 [00:05<00:00, 25.61it/s]\n"
     ]
    },
    {
     "name": "stdout",
     "output_type": "stream",
     "text": [
      "\n",
      "Train accuracy: 0.74375 , Train loss: 0.7090141773223877\n",
      "Val accuracy: 0.61 , Val loss: 1.6865191459655762\n",
      "Test accuracy: 0.62\n",
      "RMSE = 0.547475776835059\n",
      "\n",
      "Impaired: SNR = 10 dB\n"
     ]
    },
    {
     "name": "stderr",
     "output_type": "stream",
     "text": [
      "100%|██████████| 150/150 [00:05<00:00, 26.17it/s]\n"
     ]
    },
    {
     "name": "stdout",
     "output_type": "stream",
     "text": [
      "\n",
      "Train accuracy: 0.69625 , Train loss: 0.7320276498794556\n",
      "Val accuracy: 0.505 , Val loss: 1.3665522336959839\n",
      "Test accuracy: 0.5875\n",
      "RMSE = 0.6220073426511593\n",
      "===============\n",
      "Ideal: SNR = 15 dB\n"
     ]
    },
    {
     "name": "stderr",
     "output_type": "stream",
     "text": [
      "100%|██████████| 150/150 [00:05<00:00, 25.00it/s]\n"
     ]
    },
    {
     "name": "stdout",
     "output_type": "stream",
     "text": [
      "\n",
      "Train accuracy: 0.83375 , Train loss: 0.4593346416950226\n",
      "Val accuracy: 0.715 , Val loss: 1.0413718223571777\n",
      "Test accuracy: 0.7825\n",
      "RMSE = 0.4672785185616325\n",
      "\n",
      "Impaired: SNR = 15 dB\n"
     ]
    },
    {
     "name": "stderr",
     "output_type": "stream",
     "text": [
      "100%|██████████| 150/150 [00:05<00:00, 26.10it/s]\n"
     ]
    },
    {
     "name": "stdout",
     "output_type": "stream",
     "text": [
      "\n",
      "Train accuracy: 0.8025 , Train loss: 0.5666450262069702\n",
      "Val accuracy: 0.715 , Val loss: 1.2625434398651123\n",
      "Test accuracy: 0.765\n",
      "RMSE = 0.49596539679576984\n",
      "===============\n",
      "Ideal: SNR = 20 dB\n"
     ]
    },
    {
     "name": "stderr",
     "output_type": "stream",
     "text": [
      "100%|██████████| 150/150 [00:06<00:00, 24.71it/s]\n"
     ]
    },
    {
     "name": "stdout",
     "output_type": "stream",
     "text": [
      "\n",
      "Train accuracy: 0.85875 , Train loss: 0.4116485118865967\n",
      "Val accuracy: 0.785 , Val loss: 1.0336309671401978\n",
      "Test accuracy: 0.8425\n",
      "RMSE = 0.3823752548976361\n",
      "\n",
      "Impaired: SNR = 20 dB\n"
     ]
    },
    {
     "name": "stderr",
     "output_type": "stream",
     "text": [
      "100%|██████████| 150/150 [00:05<00:00, 25.39it/s]\n"
     ]
    },
    {
     "name": "stdout",
     "output_type": "stream",
     "text": [
      "\n",
      "Train accuracy: 0.83875 , Train loss: 0.49808675050735474\n",
      "Val accuracy: 0.79 , Val loss: 1.134735345840454\n",
      "Test accuracy: 0.835\n",
      "RMSE = 0.4094931462147735\n",
      "===============\n",
      "Ideal: SNR = 25 dB\n"
     ]
    },
    {
     "name": "stderr",
     "output_type": "stream",
     "text": [
      "100%|██████████| 150/150 [00:05<00:00, 25.61it/s]\n"
     ]
    },
    {
     "name": "stdout",
     "output_type": "stream",
     "text": [
      "\n",
      "Train accuracy: 0.87625 , Train loss: 0.3829042613506317\n",
      "Val accuracy: 0.785 , Val loss: 1.1805942058563232\n",
      "Test accuracy: 0.8525\n",
      "RMSE = 0.33455628279002886\n",
      "\n",
      "Impaired: SNR = 25 dB\n"
     ]
    },
    {
     "name": "stderr",
     "output_type": "stream",
     "text": [
      "100%|██████████| 150/150 [00:05<00:00, 25.38it/s]\n"
     ]
    },
    {
     "name": "stdout",
     "output_type": "stream",
     "text": [
      "\n",
      "Train accuracy: 0.845 , Train loss: 0.5069015026092529\n",
      "Val accuracy: 0.775 , Val loss: 1.0333162546157837\n",
      "Test accuracy: 0.835\n",
      "RMSE = 0.37066723478806435\n",
      "===============\n",
      "Ideal: SNR = 30 dB\n"
     ]
    },
    {
     "name": "stderr",
     "output_type": "stream",
     "text": [
      "100%|██████████| 150/150 [00:06<00:00, 24.98it/s]\n"
     ]
    },
    {
     "name": "stdout",
     "output_type": "stream",
     "text": [
      "\n",
      "Train accuracy: 0.88 , Train loss: 0.3720189034938812\n",
      "Val accuracy: 0.78 , Val loss: 1.0386782884597778\n",
      "Test accuracy: 0.8475\n",
      "RMSE = 0.39790951740846675\n",
      "\n",
      "Impaired: SNR = 30 dB\n"
     ]
    },
    {
     "name": "stderr",
     "output_type": "stream",
     "text": [
      "100%|██████████| 150/150 [00:05<00:00, 25.75it/s]"
     ]
    },
    {
     "name": "stdout",
     "output_type": "stream",
     "text": [
      "\n",
      "Train accuracy: 0.8475 , Train loss: 0.4775271713733673\n",
      "Val accuracy: 0.76 , Val loss: 1.0349538326263428\n",
      "Test accuracy: 0.8375\n",
      "RMSE = 0.3767373028346826\n"
     ]
    },
    {
     "name": "stderr",
     "output_type": "stream",
     "text": [
      "\n"
     ]
    }
   ],
   "source": [
    "M_sweep_ideal_RMSE_hist = []\n",
    "M_sweep_impaired_RMSE_hist = []\n",
    "\n",
    "M_sweep_ideal_models = []\n",
    "M_sweep_impaired_models = []\n",
    "\n",
    "num_epochs = 150\n",
    "\n",
    "for ind, select_snr in enumerate(snr_range_dB):\n",
    "  dB_sweep_data_ideal = list_M_8_SNR_dB_sweep_ideal[ind]\n",
    "  dB_sweep_data_impaired = list_M_8_SNR_dB_sweep_impaired[ind]\n",
    "\n",
    "  data_tuple_ideal = train_val_test_torch_tuple(dB_sweep_data_ideal)\n",
    "  data_tuple_impaired = train_val_test_torch_tuple(dB_sweep_data_impaired)\n",
    "\n",
    "  print('===============')\n",
    "  print('Ideal: ' + 'SNR = ' + str(select_snr) + ' dB')\n",
    "  my_model_ideal = train_validate_test_mmRAPID(data_tuple_ideal[0], data_tuple_ideal[1],\n",
    "                                         data_tuple_ideal[2][0], data_tuple_ideal[2][1],\n",
    "                                         select_M=8, n_epochs=num_epochs,loss_fn=nn.CrossEntropyLoss())\n",
    "\n",
    "  print('\\nImpaired: ' + 'SNR = ' + str(select_snr) + ' dB')\n",
    "  my_model_impaired = train_validate_test_mmRAPID(data_tuple_impaired[0], data_tuple_impaired[1],\n",
    "                                        data_tuple_impaired[2][0], data_tuple_impaired[2][1],\n",
    "                                        select_M=8, n_epochs=num_epochs,loss_fn=nn.CrossEntropyLoss())\n",
    "\n",
    "  M_sweep_ideal_RMSE_hist.append(my_model_ideal['test_results']['RMSE'])\n",
    "  M_sweep_impaired_RMSE_hist.append(my_model_impaired['test_results']['RMSE'])\n",
    "\n",
    "  M_sweep_ideal_models.append(my_model_ideal['model'])\n",
    "  M_sweep_impaired_models.append(my_model_impaired['model'])"
   ]
  },
  {
   "cell_type": "markdown",
   "metadata": {
    "id": "A7Zxfe0fVW7n"
   },
   "source": [
    "###### RMSE plot"
   ]
  },
  {
   "cell_type": "code",
   "execution_count": 53,
   "metadata": {
    "colab": {
     "base_uri": "https://localhost:8080/",
     "height": 472
    },
    "id": "KdZMY0lq9oDM",
    "outputId": "89cea262-c8ec-4f09-eb24-9c04725cbfe8"
   },
   "outputs": [
    {
     "data": {
      "image/png": "[encoded data removed]",
      "text/plain": [
       "<Figure size 640x480 with 1 Axes>"
      ]
     },
     "metadata": {},
     "output_type": "display_data"
    }
   ],
   "source": [
    "plt.figure()\n",
    "plt.plot(snr_range_dB, M_sweep_ideal_RMSE_hist,'b-',label='Ideal')\n",
    "plt.plot(snr_range_dB, M_sweep_impaired_RMSE_hist,'r-',label='Impaired')\n",
    "plt.xlabel('SNR (dB)')\n",
    "plt.ylabel('AoA RMSE (rad)')\n",
    "plt.legend()\n",
    "plt.title('AoA estimation RMSE with and without impairments (SNR = 0:5:30 dB)')\n",
    "plt.show()\n"
   ]
  },
  {
   "cell_type": "markdown",
   "metadata": {
    "id": "MSbRdAVHoYij"
   },
   "source": [
    "#### 3) RMSE of AoA with a - 15 dB secondary path gain and 20 dB SNR"
   ]
  },
  {
   "cell_type": "code",
   "execution_count": 54,
   "metadata": {
    "colab": {
     "base_uri": "https://localhost:8080/"
    },
    "id": "Zc8qXVPfohXa",
    "outputId": "43c90bc7-1670-44d7-cfc4-9a1b08614204"
   },
   "outputs": [
    {
     "name": "stdout",
     "output_type": "stream",
     "text": [
      "===============\n",
      "Ideal: M = 4\n"
     ]
    },
    {
     "name": "stderr",
     "output_type": "stream",
     "text": [
      "100%|██████████| 150/150 [00:05<00:00, 25.37it/s]\n"
     ]
    },
    {
     "name": "stdout",
     "output_type": "stream",
     "text": [
      "\n",
      "Train accuracy: 0.63125 , Train loss: 1.096755027770996\n",
      "Val accuracy: 0.55 , Val loss: 1.4266871213912964\n",
      "Test accuracy: 0.625\n",
      "RMSE = 0.5397578966136787\n",
      "\n",
      "Impaired: M = 4\n"
     ]
    },
    {
     "name": "stderr",
     "output_type": "stream",
     "text": [
      "100%|██████████| 150/150 [00:05<00:00, 25.32it/s]\n"
     ]
    },
    {
     "name": "stdout",
     "output_type": "stream",
     "text": [
      "\n",
      "Train accuracy: 0.62 , Train loss: 1.3318065404891968\n",
      "Val accuracy: 0.51 , Val loss: 1.5915123224258423\n",
      "Test accuracy: 0.6075\n",
      "RMSE = 0.6088281684116449\n",
      "===============\n",
      "Ideal: M = 8\n"
     ]
    },
    {
     "name": "stderr",
     "output_type": "stream",
     "text": [
      "100%|██████████| 150/150 [00:05<00:00, 25.26it/s]\n"
     ]
    },
    {
     "name": "stdout",
     "output_type": "stream",
     "text": [
      "\n",
      "Train accuracy: 0.86375 , Train loss: 0.3923383355140686\n",
      "Val accuracy: 0.74 , Val loss: 1.1816905736923218\n",
      "Test accuracy: 0.8475\n",
      "RMSE = 0.36824045343923656\n",
      "\n",
      "Impaired: M = 8\n"
     ]
    },
    {
     "name": "stderr",
     "output_type": "stream",
     "text": [
      "100%|██████████| 150/150 [00:05<00:00, 25.95it/s]\n"
     ]
    },
    {
     "name": "stdout",
     "output_type": "stream",
     "text": [
      "\n",
      "Train accuracy: 0.83375 , Train loss: 0.5593792200088501\n",
      "Val accuracy: 0.775 , Val loss: 1.1807150840759277\n",
      "Test accuracy: 0.8375\n",
      "RMSE = 0.3799505346303082\n",
      "===============\n",
      "Ideal: M = 12\n"
     ]
    },
    {
     "name": "stderr",
     "output_type": "stream",
     "text": [
      "100%|██████████| 150/150 [00:06<00:00, 23.99it/s]\n"
     ]
    },
    {
     "name": "stdout",
     "output_type": "stream",
     "text": [
      "\n",
      "Train accuracy: 0.91 , Train loss: 0.30426785349845886\n",
      "Val accuracy: 0.835 , Val loss: 0.8124861717224121\n",
      "Test accuracy: 0.875\n",
      "RMSE = 0.3874466568147559\n",
      "\n",
      "Impaired: M = 12\n"
     ]
    },
    {
     "name": "stderr",
     "output_type": "stream",
     "text": [
      "100%|██████████| 150/150 [00:06<00:00, 24.74it/s]"
     ]
    },
    {
     "name": "stdout",
     "output_type": "stream",
     "text": [
      "\n",
      "Train accuracy: 0.895 , Train loss: 0.34058985114097595\n",
      "Val accuracy: 0.78 , Val loss: 0.990787923336029\n",
      "Test accuracy: 0.8775\n",
      "RMSE = 0.311425377431605\n"
     ]
    },
    {
     "name": "stderr",
     "output_type": "stream",
     "text": [
      "\n"
     ]
    }
   ],
   "source": [
    "SNR_sweep_ideal_RMSE_hist = []\n",
    "SNR_sweep_impaired_RMSE_hist = []\n",
    "\n",
    "SNR_sweep_ideal_models = []\n",
    "SNR_sweep_impaired_models = []\n",
    "\n",
    "num_epochs = 150\n",
    "\n",
    "for ind, sel_M in enumerate(M_range):\n",
    "  M_sweep_data_ideal = list_SNR_dB_20_M_sweep_ideal[ind]\n",
    "  M_sweep_data_impaired = list_SNR_dB_20_M_sweep_impaired[ind]\n",
    "\n",
    "  data_tuple_ideal = train_val_test_torch_tuple(M_sweep_data_ideal)\n",
    "  data_tuple_impaired = train_val_test_torch_tuple(M_sweep_data_impaired)\n",
    "\n",
    "  print('===============')\n",
    "  print('Ideal: ' + 'M = ' + str(sel_M))\n",
    "  my_model_ideal = train_validate_test_mmRAPID(data_tuple_ideal[0], data_tuple_ideal[1],\n",
    "                                         data_tuple_ideal[2][0], data_tuple_ideal[2][1],\n",
    "                                         select_M=sel_M, n_epochs=num_epochs,loss_fn=nn.CrossEntropyLoss())\n",
    "\n",
    "  print('\\nImpaired: ' + 'M = ' + str(sel_M))\n",
    "  my_model_impaired = train_validate_test_mmRAPID(data_tuple_impaired[0], data_tuple_impaired[1],\n",
    "                                        data_tuple_impaired[2][0], data_tuple_impaired[2][1],\n",
    "                                        select_M=sel_M, n_epochs=num_epochs,loss_fn=nn.CrossEntropyLoss())\n",
    "\n",
    "  SNR_sweep_ideal_RMSE_hist.append(my_model_ideal['test_results']['RMSE'])\n",
    "  SNR_sweep_impaired_RMSE_hist.append(my_model_impaired['test_results']['RMSE'])\n",
    "\n",
    "  SNR_sweep_ideal_models.append(my_model_ideal['model'])\n",
    "  SNR_sweep_impaired_models.append(my_model_impaired['model'])"
   ]
  },
  {
   "cell_type": "markdown",
   "metadata": {
    "id": "jQeGQMBdVShj"
   },
   "source": [
    "###### RMSE plot\n"
   ]
  },
  {
   "cell_type": "code",
   "execution_count": 55,
   "metadata": {
    "colab": {
     "base_uri": "https://localhost:8080/",
     "height": 472
    },
    "id": "87Buy3ng-RcZ",
    "outputId": "d3ed9561-099e-4b8f-c26d-9e2777465147"
   },
   "outputs": [
    {
     "data": {
      "image/png": "[encoded data removed]",
      "text/plain": [
       "<Figure size 640x480 with 1 Axes>"
      ]
     },
     "metadata": {},
     "output_type": "display_data"
    }
   ],
   "source": [
    "plt.figure()\n",
    "plt.plot(M_range, SNR_sweep_ideal_RMSE_hist,'b-',label='Ideal')\n",
    "plt.plot(M_range, SNR_sweep_impaired_RMSE_hist,'r-',label='Impaired')\n",
    "plt.xlabel('M')\n",
    "plt.ylabel('AoA estimation RMSE (rad)')\n",
    "plt.legend()\n",
    "plt.title('AoA estimation RMSE with and without impairments (M = 4, 8, 12)')\n",
    "plt.show()"
   ]
  },
  {
   "cell_type": "markdown",
   "metadata": {
    "id": "YTCEz23noiS9"
   },
   "source": [
    "#### 4) RMSE of AoA with adjustable secondary path gain and 20 dB SNR"
   ]
  },
  {
   "cell_type": "code",
   "execution_count": 56,
   "metadata": {
    "colab": {
     "base_uri": "https://localhost:8080/",
     "height": 136
    },
    "id": "MkbW9ZTgXPVU",
    "outputId": "4a681bd6-d551-4ded-908e-f4e565ab64f3"
   },
   "outputs": [
    {
     "data": {
      "application/vnd.google.colaboratory.intrinsic+json": {
       "type": "string"
      },
      "text/plain": [
       "\"\\nM_sweep_data_ideal = list_SNR_dB_20_M_sweep_ideal[1] # M = 8\\nM_sweep_data_impaired = list_SNR_dB_20_M_sweep_impaired[1] # M = 8\\n\\ndata_tuple_ideal = train_val_test_torch_tuple(M_sweep_data_ideal) # M = 8\\ndata_tuple_impaired = train_val_test_torch_tuple(M_sweep_data_impaired) # M = 8\\n\\nload_ideal_model = deepcopy(train_validate_test_mmRAPID(data_tuple_ideal[0], data_tuple_ideal[1],\\n                                       data_tuple_ideal[2][0], data_tuple_ideal[2][1],\\n                                       select_M=8, n_epochs=num_epochs,loss_fn=nn.CrossEntropyLoss())['model'])\\n\\nload_ideal_model.eval()\\n\\n\\nload_impaired_model = deepcopy(train_validate_test_mmRAPID(data_tuple_impaired[0], data_tuple_impaired[1],\\n                                      data_tuple_impaired[2][0], data_tuple_impaired[2][1],\\n                                      select_M=8, n_epochs=num_epochs,loss_fn=nn.CrossEntropyLoss())['model'])\\n\\nload_impaired_model.eval()\\n\""
      ]
     },
     "execution_count": 56,
     "metadata": {},
     "output_type": "execute_result"
    }
   ],
   "source": [
    "  '''\n",
    "  M_sweep_data_ideal = list_SNR_dB_20_M_sweep_ideal[1] # M = 8\n",
    "  M_sweep_data_impaired = list_SNR_dB_20_M_sweep_impaired[1] # M = 8\n",
    "\n",
    "  data_tuple_ideal = train_val_test_torch_tuple(M_sweep_data_ideal) # M = 8\n",
    "  data_tuple_impaired = train_val_test_torch_tuple(M_sweep_data_impaired) # M = 8\n",
    "\n",
    "  load_ideal_model = deepcopy(train_validate_test_mmRAPID(data_tuple_ideal[0], data_tuple_ideal[1],\n",
    "                                         data_tuple_ideal[2][0], data_tuple_ideal[2][1],\n",
    "                                         select_M=8, n_epochs=num_epochs,loss_fn=nn.CrossEntropyLoss())['model'])\n",
    "\n",
    "  load_ideal_model.eval()\n",
    "\n",
    "\n",
    "  load_impaired_model = deepcopy(train_validate_test_mmRAPID(data_tuple_impaired[0], data_tuple_impaired[1],\n",
    "                                        data_tuple_impaired[2][0], data_tuple_impaired[2][1],\n",
    "                                        select_M=8, n_epochs=num_epochs,loss_fn=nn.CrossEntropyLoss())['model'])\n",
    "\n",
    "  load_impaired_model.eval()\n",
    "  '''"
   ]
  },
  {
   "cell_type": "code",
   "execution_count": 57,
   "metadata": {
    "colab": {
     "base_uri": "https://localhost:8080/"
    },
    "id": "UD9XzgCcSZrC",
    "outputId": "95597f95-d7f5-4ddb-b8a1-b8e27647fd9b"
   },
   "outputs": [
    {
     "data": {
      "text/plain": [
       "mmRAPID_MLP(\n",
       "  (relu): ReLU()\n",
       "  (linear_bn1): BatchNorm1d(8, eps=1e-05, momentum=0.1, affine=True, track_running_stats=True)\n",
       "  (linear1): Linear(in_features=8, out_features=64, bias=True)\n",
       "  (drop1): Dropout(p=0.5, inplace=False)\n",
       "  (linear_bn2): BatchNorm1d(64, eps=1e-05, momentum=0.1, affine=True, track_running_stats=True)\n",
       "  (linear2): Linear(in_features=64, out_features=128, bias=True)\n",
       "  (drop2): Dropout(p=0.5, inplace=False)\n",
       "  (linear3): Linear(in_features=128, out_features=64, bias=True)\n",
       ")"
      ]
     },
     "execution_count": 57,
     "metadata": {},
     "output_type": "execute_result"
    }
   ],
   "source": [
    "load_ideal_model = deepcopy(SNR_sweep_ideal_models[1]) # M = 8, L = -15, SNR = 20\n",
    "load_ideal_model.eval()\n",
    "load_impaired_model = deepcopy(SNR_sweep_impaired_models[1]) # M = 8, L = -15, SNR = 20\n",
    "load_impaired_model.eval()"
   ]
  },
  {
   "cell_type": "code",
   "execution_count": 58,
   "metadata": {
    "colab": {
     "base_uri": "https://localhost:8080/"
    },
    "id": "Ng7-DHi8ooqt",
    "outputId": "fd5be6bd-691f-4d41-d105-355468e28fe4"
   },
   "outputs": [
    {
     "name": "stdout",
     "output_type": "stream",
     "text": [
      "===============\n",
      "Ideal: L = -15 dB\n",
      "Accuracy = 0.8325\n",
      "RMSE = 0.3891437375426482\n",
      "\n",
      "Impaired: L = -15 dB\n",
      "Accuracy = 0.8275\n",
      "RMSE = 0.3755914652537094\n",
      "===============\n",
      "Ideal: L = -12 dB\n",
      "Accuracy = 0.7825\n",
      "RMSE = 0.4142326799224959\n",
      "\n",
      "Impaired: L = -12 dB\n",
      "Accuracy = 0.7675\n",
      "RMSE = 0.4522975199095734\n",
      "===============\n",
      "Ideal: L = -9 dB\n",
      "Accuracy = 0.665\n",
      "RMSE = 0.5231790951584308\n",
      "\n",
      "Impaired: L = -9 dB\n",
      "Accuracy = 0.5875\n",
      "RMSE = 0.5988347740331694\n",
      "===============\n",
      "Ideal: L = -6 dB\n",
      "Accuracy = 0.4425\n",
      "RMSE = 0.6760734649791678\n",
      "\n",
      "Impaired: L = -6 dB\n",
      "Accuracy = 0.385\n",
      "RMSE = 0.6949842002489565\n",
      "===============\n",
      "Ideal: L = -3 dB\n",
      "Accuracy = 0.25\n",
      "RMSE = 0.7438385262437152\n",
      "\n",
      "Impaired: L = -3 dB\n",
      "Accuracy = 0.1925\n",
      "RMSE = 0.7969847249969804\n"
     ]
    }
   ],
   "source": [
    "L_sweep_ideal_RMSE_hist = []\n",
    "L_sweep_impaired_RMSE_hist = []\n",
    "\n",
    "num_epochs = 150\n",
    "\n",
    "for ind, sel_secondary_gain in enumerate(secondary_gain_range):\n",
    "  L_sweep_data_ideal = list_SNR_dB_20_M_8_secondary_L_2_sweep_ideal[ind]\n",
    "  L_sweep_impaired = list_SNR_dB_20_M_8_secondary_L_2_sweep_impaired[ind]\n",
    "\n",
    "  data_tuple_ideal = train_val_test_torch_tuple(L_sweep_data_ideal)\n",
    "  data_tuple_impaired = train_val_test_torch_tuple(L_sweep_impaired)\n",
    "\n",
    "  X_test_nn_ideal, y_test_nn_ideal = data_tuple_ideal[2][0], data_tuple_ideal[2][1]\n",
    "  X_test_nn_impaired, y_test_nn_impaired = data_tuple_impaired[2][0], data_tuple_impaired[2][1]\n",
    "\n",
    "  ##### ========================= Ideal ========================= #####\n",
    "  #my_model_ideal = train_validate_test_mmRAPID(data_tuple_ideal[0], data_tuple_ideal[1],\n",
    "  #                                       data_tuple_ideal[2][0], data_tuple_ideal[2][1],\n",
    "  #                                       select_M=8, n_epochs=num_epochs,loss_fn=nn.CrossEntropyLoss())\n",
    "\n",
    "  print('===============')\n",
    "  print('Ideal: ' + 'L = ' + str(sel_secondary_gain) + ' dB')\n",
    "  y_hat_test_np_ideal = load_ideal_model(X_test_nn_ideal).argmax(dim=1).detach().cpu().numpy()\n",
    "  y_test_np_ideal = y_test_nn_ideal.detach().cpu().numpy()\n",
    "\n",
    "  # Compute accuracy\n",
    "  test_acc_ideal = accuracy_score(y_test_np_ideal, y_hat_test_np_ideal)\n",
    "  print('Accuracy = ' + str(test_acc_ideal))\n",
    "  # Compute RMSE\n",
    "  test_RMSE_for_SNR_ideal = np.sqrt(mean_squared_error(AoA_vec_K[y_test_np_ideal], AoA_vec_K[y_hat_test_np_ideal]))\n",
    "  print('RMSE = ' + str(test_RMSE_for_SNR_ideal))\n",
    "\n",
    "\n",
    "  ##### ========================= Impaired ========================= #####\n",
    "  #my_model_impaired = train_validate_test_mmRAPID(data_tuple_impaired[0], data_tuple_impaired[1],\n",
    "  #                                      data_tuple_impaired[2][0], data_tuple_impaired[2][1],\n",
    "  #                                      select_M=8, n_epochs=num_epochs,loss_fn=nn.CrossEntropyLoss())\n",
    "\n",
    "  print('\\nImpaired: ' + 'L = ' + str(sel_secondary_gain) + ' dB')\n",
    "  y_hat_test_np_impaired = load_impaired_model(X_test_nn_impaired).argmax(dim=1).detach().cpu().numpy()\n",
    "  y_test_np_impaired = y_test_nn_impaired.detach().cpu().numpy()\n",
    "\n",
    "  # Compute accuracy\n",
    "  test_acc_impaired = accuracy_score(y_test_np_impaired, y_hat_test_np_impaired)\n",
    "  print('Accuracy = ' + str(test_acc_impaired))\n",
    "  # Compute RMSE\n",
    "  test_RMSE_for_SNR_impaired = np.sqrt(mean_squared_error(AoA_vec_K[y_test_np_impaired], AoA_vec_K[y_hat_test_np_impaired]))\n",
    "  print('RMSE = ' + str(test_RMSE_for_SNR_impaired))\n",
    "\n",
    "\n",
    "  L_sweep_ideal_RMSE_hist.append(test_RMSE_for_SNR_ideal) #my_model_ideal['test_results']['RMSE'])\n",
    "  L_sweep_impaired_RMSE_hist.append(test_RMSE_for_SNR_impaired) #my_model_impaired['test_results']['RMSE'])"
   ]
  },
  {
   "cell_type": "markdown",
   "metadata": {
    "id": "6acg2oySVanI"
   },
   "source": [
    "###### RMSE plot"
   ]
  },
  {
   "cell_type": "code",
   "execution_count": 59,
   "metadata": {
    "colab": {
     "base_uri": "https://localhost:8080/",
     "height": 472
    },
    "id": "Qa6PRh63-vHy",
    "outputId": "50aff865-2994-4630-f364-a1d20d26fba6"
   },
   "outputs": [
    {
     "data": {
      "image/png": "[encoded data removed]",
      "text/plain": [
       "<Figure size 640x480 with 1 Axes>"
      ]
     },
     "metadata": {},
     "output_type": "display_data"
    }
   ],
   "source": [
    "plt.figure()\n",
    "plt.plot(secondary_gain_range, L_sweep_ideal_RMSE_hist,'b-',label='Ideal')\n",
    "plt.plot(secondary_gain_range, L_sweep_impaired_RMSE_hist,'r-',label='Impaired')\n",
    "plt.xlabel('L (dB)')\n",
    "plt.ylabel('AoA estimation RMSE (rad)')\n",
    "plt.legend()\n",
    "plt.title('AoA estimation RMSE with and without impairments (L = -15:3:-3 dB)')\n",
    "plt.show()"
   ]
  },
  {
   "cell_type": "code",
   "execution_count": 59,
   "metadata": {
    "id": "6VZrrpCNwmlU"
   },
   "outputs": [],
   "source": []
  }
 ],
 "metadata": {
  "accelerator": "GPU",
  "colab": {
   "machine_shape": "hm",
   "provenance": [],
   "toc_visible": true
  },
  "kernelspec": {
   "display_name": "Python 3 (ipykernel)",
   "language": "python",
   "name": "python3"
  },
  "language_info": {
   "codemirror_mode": {
    "name": "ipython",
    "version": 3
   },
   "file_extension": ".py",
   "mimetype": "text/x-python",
   "name": "python",
   "nbconvert_exporter": "python",
   "pygments_lexer": "ipython3",
   "version": "3.9.7"
  }
 },
 "nbformat": 4,
 "nbformat_minor": 1
}
